{
 "cells": [
  {
   "cell_type": "markdown",
   "metadata": {},
   "source": [
    "- Link for Tableau Dashboard\n",
    "\n",
    "\n",
    "https://public.tableau.com/authoring/Telecom-IneffectiveOperators/Dashboard1#2"
   ]
  },
  {
   "cell_type": "markdown",
   "metadata": {},
   "source": [
    "## TITLE: Identifying Ineffective Operators¶\n"
   ]
  },
  {
   "cell_type": "markdown",
   "metadata": {},
   "source": [
    "## Project description:\n",
    "The virtual telephony service CallMeMaybe is developing a new function that will give supervisors information on the least effective operators. An operator is considered ineffective if they have a large number of missed incoming calls (internal and external) and a long waiting time for incoming calls. Moreover, if an operator is supposed to make outgoing calls, a small number of them is also a sign of ineffectiveness.\n",
    "\n",
    "we will:\n",
    "\n",
    "Carry out exploratory data analysis\n",
    "Identify ineffective operators\n",
    "Test statistical hypotheses\n",
    "### Description of the data\n",
    "The datasets contain data on the use of the virtual telephony service CallMeMaybe. Its clients are organizations that need to distribute large numbers of incoming calls among various operators, or make outgoing calls through their operators. Operators can also make internal calls to communicate with one another. These calls go through CallMeMaybe's network."
   ]
  },
  {
   "cell_type": "markdown",
   "metadata": {},
   "source": [
    "### Project objective\n",
    "Create a new function that will give supervisors information on the least effective operators"
   ]
  },
  {
   "cell_type": "markdown",
   "metadata": {},
   "source": [
    "### Import libraries"
   ]
  },
  {
   "cell_type": "code",
   "execution_count": 1,
   "metadata": {},
   "outputs": [],
   "source": [
    "import pandas as pd  \n",
    "import numpy as np\n",
    "import datetime\n",
    "import matplotlib.pyplot as plt\n",
    "%matplotlib inline\n",
    "import seaborn as sns\n",
    "sns.set(style=\"darkgrid\")\n",
    "from termcolor import colored\n",
    "from scipy import stats as st\n",
    "import math as mth"
   ]
  },
  {
   "cell_type": "markdown",
   "metadata": {},
   "source": [
    "### Import and look in the Data"
   ]
  },
  {
   "cell_type": "code",
   "execution_count": 89,
   "metadata": {},
   "outputs": [],
   "source": [
    "#Local import of the data\n",
    "try:\n",
    "    clients=pd.read_csv('telecom_clients_us.csv')\n",
    "    operators=pd.read_csv('telecom_dataset_us.csv')\n",
    "    \n",
    "#When we load data from the cloud\n",
    "except:\n",
    "    clients=pd.read_csv('/datasets/telecom_clients_us.csv')\n",
    "    operators=pd.read_csv('/datasets/telecom_dataset_us.csv')"
   ]
  },
  {
   "cell_type": "code",
   "execution_count": 90,
   "metadata": {},
   "outputs": [],
   "source": [
    "union = operators.merge(clients,how='left',on='user_id')"
   ]
  },
  {
   "cell_type": "code",
   "execution_count": 91,
   "metadata": {},
   "outputs": [
    {
     "data": {
      "text/html": [
       "<div>\n",
       "<style scoped>\n",
       "    .dataframe tbody tr th:only-of-type {\n",
       "        vertical-align: middle;\n",
       "    }\n",
       "\n",
       "    .dataframe tbody tr th {\n",
       "        vertical-align: top;\n",
       "    }\n",
       "\n",
       "    .dataframe thead th {\n",
       "        text-align: right;\n",
       "    }\n",
       "</style>\n",
       "<table border=\"1\" class=\"dataframe\">\n",
       "  <thead>\n",
       "    <tr style=\"text-align: right;\">\n",
       "      <th></th>\n",
       "      <th>user_id</th>\n",
       "      <th>date</th>\n",
       "      <th>direction</th>\n",
       "      <th>internal</th>\n",
       "      <th>operator_id</th>\n",
       "      <th>is_missed_call</th>\n",
       "      <th>calls_count</th>\n",
       "      <th>call_duration</th>\n",
       "      <th>total_call_duration</th>\n",
       "      <th>tariff_plan</th>\n",
       "      <th>date_start</th>\n",
       "    </tr>\n",
       "  </thead>\n",
       "  <tbody>\n",
       "    <tr>\n",
       "      <th>0</th>\n",
       "      <td>166377</td>\n",
       "      <td>2019-08-04 00:00:00+03:00</td>\n",
       "      <td>in</td>\n",
       "      <td>False</td>\n",
       "      <td>NaN</td>\n",
       "      <td>True</td>\n",
       "      <td>2</td>\n",
       "      <td>0</td>\n",
       "      <td>4</td>\n",
       "      <td>B</td>\n",
       "      <td>2019-08-01</td>\n",
       "    </tr>\n",
       "    <tr>\n",
       "      <th>1</th>\n",
       "      <td>166377</td>\n",
       "      <td>2019-08-05 00:00:00+03:00</td>\n",
       "      <td>out</td>\n",
       "      <td>True</td>\n",
       "      <td>880022.0</td>\n",
       "      <td>True</td>\n",
       "      <td>3</td>\n",
       "      <td>0</td>\n",
       "      <td>5</td>\n",
       "      <td>B</td>\n",
       "      <td>2019-08-01</td>\n",
       "    </tr>\n",
       "    <tr>\n",
       "      <th>2</th>\n",
       "      <td>166377</td>\n",
       "      <td>2019-08-05 00:00:00+03:00</td>\n",
       "      <td>out</td>\n",
       "      <td>True</td>\n",
       "      <td>880020.0</td>\n",
       "      <td>True</td>\n",
       "      <td>1</td>\n",
       "      <td>0</td>\n",
       "      <td>1</td>\n",
       "      <td>B</td>\n",
       "      <td>2019-08-01</td>\n",
       "    </tr>\n",
       "    <tr>\n",
       "      <th>3</th>\n",
       "      <td>166377</td>\n",
       "      <td>2019-08-05 00:00:00+03:00</td>\n",
       "      <td>out</td>\n",
       "      <td>True</td>\n",
       "      <td>880020.0</td>\n",
       "      <td>False</td>\n",
       "      <td>1</td>\n",
       "      <td>10</td>\n",
       "      <td>18</td>\n",
       "      <td>B</td>\n",
       "      <td>2019-08-01</td>\n",
       "    </tr>\n",
       "    <tr>\n",
       "      <th>4</th>\n",
       "      <td>166377</td>\n",
       "      <td>2019-08-05 00:00:00+03:00</td>\n",
       "      <td>out</td>\n",
       "      <td>False</td>\n",
       "      <td>880022.0</td>\n",
       "      <td>True</td>\n",
       "      <td>3</td>\n",
       "      <td>0</td>\n",
       "      <td>25</td>\n",
       "      <td>B</td>\n",
       "      <td>2019-08-01</td>\n",
       "    </tr>\n",
       "  </tbody>\n",
       "</table>\n",
       "</div>"
      ],
      "text/plain": [
       "   user_id                       date direction internal  operator_id  \\\n",
       "0   166377  2019-08-04 00:00:00+03:00        in    False          NaN   \n",
       "1   166377  2019-08-05 00:00:00+03:00       out     True     880022.0   \n",
       "2   166377  2019-08-05 00:00:00+03:00       out     True     880020.0   \n",
       "3   166377  2019-08-05 00:00:00+03:00       out     True     880020.0   \n",
       "4   166377  2019-08-05 00:00:00+03:00       out    False     880022.0   \n",
       "\n",
       "   is_missed_call  calls_count  call_duration  total_call_duration  \\\n",
       "0            True            2              0                    4   \n",
       "1            True            3              0                    5   \n",
       "2            True            1              0                    1   \n",
       "3           False            1             10                   18   \n",
       "4            True            3              0                   25   \n",
       "\n",
       "  tariff_plan  date_start  \n",
       "0           B  2019-08-01  \n",
       "1           B  2019-08-01  \n",
       "2           B  2019-08-01  \n",
       "3           B  2019-08-01  \n",
       "4           B  2019-08-01  "
      ]
     },
     "execution_count": 91,
     "metadata": {},
     "output_type": "execute_result"
    }
   ],
   "source": [
    "union.head()"
   ]
  },
  {
   "cell_type": "code",
   "execution_count": 92,
   "metadata": {},
   "outputs": [
    {
     "name": "stdout",
     "output_type": "stream",
     "text": [
      "<class 'pandas.core.frame.DataFrame'>\n",
      "Int64Index: 53902 entries, 0 to 53901\n",
      "Data columns (total 11 columns):\n",
      "user_id                53902 non-null int64\n",
      "date                   53902 non-null object\n",
      "direction              53902 non-null object\n",
      "internal               53785 non-null object\n",
      "operator_id            45730 non-null float64\n",
      "is_missed_call         53902 non-null bool\n",
      "calls_count            53902 non-null int64\n",
      "call_duration          53902 non-null int64\n",
      "total_call_duration    53902 non-null int64\n",
      "tariff_plan            53902 non-null object\n",
      "date_start             53902 non-null object\n",
      "dtypes: bool(1), float64(1), int64(4), object(5)\n",
      "memory usage: 4.6+ MB\n"
     ]
    }
   ],
   "source": [
    "union.info()"
   ]
  },
  {
   "cell_type": "markdown",
   "metadata": {},
   "source": [
    "- While missing values are related to the operators would be more wise to remove them and avoid to fill them since we have high responsibility on rating an operator as innefective or not within inaccurate data\n",
    "- Operator id and user id(client) would be better to transform it to int32 to save some memory."
   ]
  },
  {
   "cell_type": "markdown",
   "metadata": {},
   "source": [
    "### Data preprocessing "
   ]
  },
  {
   "cell_type": "code",
   "execution_count": 93,
   "metadata": {},
   "outputs": [
    {
     "data": {
      "text/html": [
       "<div>\n",
       "<style scoped>\n",
       "    .dataframe tbody tr th:only-of-type {\n",
       "        vertical-align: middle;\n",
       "    }\n",
       "\n",
       "    .dataframe tbody tr th {\n",
       "        vertical-align: top;\n",
       "    }\n",
       "\n",
       "    .dataframe thead th {\n",
       "        text-align: right;\n",
       "    }\n",
       "</style>\n",
       "<table border=\"1\" class=\"dataframe\">\n",
       "  <thead>\n",
       "    <tr style=\"text-align: right;\">\n",
       "      <th></th>\n",
       "      <th>user_id</th>\n",
       "      <th>date</th>\n",
       "      <th>direction</th>\n",
       "      <th>internal</th>\n",
       "      <th>operator_id</th>\n",
       "      <th>is_missed_call</th>\n",
       "      <th>calls_count</th>\n",
       "      <th>call_duration</th>\n",
       "      <th>total_call_duration</th>\n",
       "      <th>tariff_plan</th>\n",
       "      <th>date_start</th>\n",
       "    </tr>\n",
       "  </thead>\n",
       "  <tbody>\n",
       "    <tr>\n",
       "      <th>1</th>\n",
       "      <td>166377</td>\n",
       "      <td>2019-08-05 00:00:00+03:00</td>\n",
       "      <td>out</td>\n",
       "      <td>True</td>\n",
       "      <td>880022.0</td>\n",
       "      <td>True</td>\n",
       "      <td>3</td>\n",
       "      <td>0</td>\n",
       "      <td>5</td>\n",
       "      <td>B</td>\n",
       "      <td>2019-08-01</td>\n",
       "    </tr>\n",
       "    <tr>\n",
       "      <th>2</th>\n",
       "      <td>166377</td>\n",
       "      <td>2019-08-05 00:00:00+03:00</td>\n",
       "      <td>out</td>\n",
       "      <td>True</td>\n",
       "      <td>880020.0</td>\n",
       "      <td>True</td>\n",
       "      <td>1</td>\n",
       "      <td>0</td>\n",
       "      <td>1</td>\n",
       "      <td>B</td>\n",
       "      <td>2019-08-01</td>\n",
       "    </tr>\n",
       "    <tr>\n",
       "      <th>3</th>\n",
       "      <td>166377</td>\n",
       "      <td>2019-08-05 00:00:00+03:00</td>\n",
       "      <td>out</td>\n",
       "      <td>True</td>\n",
       "      <td>880020.0</td>\n",
       "      <td>False</td>\n",
       "      <td>1</td>\n",
       "      <td>10</td>\n",
       "      <td>18</td>\n",
       "      <td>B</td>\n",
       "      <td>2019-08-01</td>\n",
       "    </tr>\n",
       "    <tr>\n",
       "      <th>4</th>\n",
       "      <td>166377</td>\n",
       "      <td>2019-08-05 00:00:00+03:00</td>\n",
       "      <td>out</td>\n",
       "      <td>False</td>\n",
       "      <td>880022.0</td>\n",
       "      <td>True</td>\n",
       "      <td>3</td>\n",
       "      <td>0</td>\n",
       "      <td>25</td>\n",
       "      <td>B</td>\n",
       "      <td>2019-08-01</td>\n",
       "    </tr>\n",
       "    <tr>\n",
       "      <th>5</th>\n",
       "      <td>166377</td>\n",
       "      <td>2019-08-05 00:00:00+03:00</td>\n",
       "      <td>out</td>\n",
       "      <td>False</td>\n",
       "      <td>880020.0</td>\n",
       "      <td>False</td>\n",
       "      <td>2</td>\n",
       "      <td>3</td>\n",
       "      <td>29</td>\n",
       "      <td>B</td>\n",
       "      <td>2019-08-01</td>\n",
       "    </tr>\n",
       "  </tbody>\n",
       "</table>\n",
       "</div>"
      ],
      "text/plain": [
       "   user_id                       date direction internal  operator_id  \\\n",
       "1   166377  2019-08-05 00:00:00+03:00       out     True     880022.0   \n",
       "2   166377  2019-08-05 00:00:00+03:00       out     True     880020.0   \n",
       "3   166377  2019-08-05 00:00:00+03:00       out     True     880020.0   \n",
       "4   166377  2019-08-05 00:00:00+03:00       out    False     880022.0   \n",
       "5   166377  2019-08-05 00:00:00+03:00       out    False     880020.0   \n",
       "\n",
       "   is_missed_call  calls_count  call_duration  total_call_duration  \\\n",
       "1            True            3              0                    5   \n",
       "2            True            1              0                    1   \n",
       "3           False            1             10                   18   \n",
       "4            True            3              0                   25   \n",
       "5           False            2              3                   29   \n",
       "\n",
       "  tariff_plan  date_start  \n",
       "1           B  2019-08-01  \n",
       "2           B  2019-08-01  \n",
       "3           B  2019-08-01  \n",
       "4           B  2019-08-01  \n",
       "5           B  2019-08-01  "
      ]
     },
     "metadata": {},
     "output_type": "display_data"
    },
    {
     "name": "stdout",
     "output_type": "stream",
     "text": [
      "The 60 null lines of the attribute internal is the 0.13% of the rest of data set\n"
     ]
    }
   ],
   "source": [
    "#drop the rows with nan\n",
    "operator_nulls=union[~union['operator_id'].isnull()]\n",
    "display(operator_nulls.head())\n",
    "print('The {} null lines of the attribute internal is the {:.2%} of the rest of data set'\\\n",
    "      .format(operator_nulls['internal'].isnull().sum(),\\\n",
    "              (operator_nulls['internal'].isnull().sum()/operator_nulls.shape[0])))"
   ]
  },
  {
   "cell_type": "code",
   "execution_count": 94,
   "metadata": {},
   "outputs": [
    {
     "data": {
      "text/html": [
       "<div>\n",
       "<style scoped>\n",
       "    .dataframe tbody tr th:only-of-type {\n",
       "        vertical-align: middle;\n",
       "    }\n",
       "\n",
       "    .dataframe tbody tr th {\n",
       "        vertical-align: top;\n",
       "    }\n",
       "\n",
       "    .dataframe thead th {\n",
       "        text-align: right;\n",
       "    }\n",
       "</style>\n",
       "<table border=\"1\" class=\"dataframe\">\n",
       "  <thead>\n",
       "    <tr style=\"text-align: right;\">\n",
       "      <th></th>\n",
       "      <th></th>\n",
       "      <th></th>\n",
       "      <th>is_missed_call</th>\n",
       "      <th>internal</th>\n",
       "      <th>direction</th>\n",
       "    </tr>\n",
       "  </thead>\n",
       "  <tbody>\n",
       "    <tr>\n",
       "      <th rowspan=\"4\" valign=\"top\">2019-08-02 00:00:00+03:00</th>\n",
       "      <th rowspan=\"2\" valign=\"top\">B</th>\n",
       "      <th>False</th>\n",
       "      <td>NaN</td>\n",
       "      <td>1.0</td>\n",
       "      <td>NaN</td>\n",
       "    </tr>\n",
       "    <tr>\n",
       "      <th>True</th>\n",
       "      <td>1.0</td>\n",
       "      <td>NaN</td>\n",
       "      <td>NaN</td>\n",
       "    </tr>\n",
       "    <tr>\n",
       "      <th rowspan=\"2\" valign=\"top\">C</th>\n",
       "      <th>False</th>\n",
       "      <td>NaN</td>\n",
       "      <td>1.0</td>\n",
       "      <td>NaN</td>\n",
       "    </tr>\n",
       "    <tr>\n",
       "      <th>True</th>\n",
       "      <td>1.0</td>\n",
       "      <td>NaN</td>\n",
       "      <td>NaN</td>\n",
       "    </tr>\n",
       "    <tr>\n",
       "      <th>2019-08-03 00:00:00+03:00</th>\n",
       "      <th>B</th>\n",
       "      <th>False</th>\n",
       "      <td>NaN</td>\n",
       "      <td>3.0</td>\n",
       "      <td>NaN</td>\n",
       "    </tr>\n",
       "  </tbody>\n",
       "</table>\n",
       "</div>"
      ],
      "text/plain": [
       "                                   is_missed_call  internal  direction\n",
       "2019-08-02 00:00:00+03:00 B False             NaN       1.0        NaN\n",
       "                            True              1.0       NaN        NaN\n",
       "                          C False             NaN       1.0        NaN\n",
       "                            True              1.0       NaN        NaN\n",
       "2019-08-03 00:00:00+03:00 B False             NaN       3.0        NaN"
      ]
     },
     "execution_count": 94,
     "metadata": {},
     "output_type": "execute_result"
    }
   ],
   "source": [
    "#Investigate the nulls\n",
    "look_nulls=union[union['operator_id'].isnull()]\n",
    "look_nulls.groupby(['date','tariff_plan'])\\\n",
    ".agg({'is_missed_call':'value_counts','internal':'value_counts','direction':'value_counts'}).head()"
   ]
  },
  {
   "cell_type": "markdown",
   "metadata": {},
   "source": [
    "- Direction in missed calls is not recorded at all. Maybe we should trasfer this to the related department as a potential technical issue. "
   ]
  },
  {
   "cell_type": "code",
   "execution_count": 95,
   "metadata": {},
   "outputs": [
    {
     "data": {
      "text/plain": [
       "user_id                0\n",
       "date                   0\n",
       "direction              0\n",
       "internal               0\n",
       "operator_id            0\n",
       "is_missed_call         0\n",
       "calls_count            0\n",
       "call_duration          0\n",
       "total_call_duration    0\n",
       "tariff_plan            0\n",
       "date_start             0\n",
       "dtype: int64"
      ]
     },
     "execution_count": 95,
     "metadata": {},
     "output_type": "execute_result"
    }
   ],
   "source": [
    "#drop the rest nan of internal variable\n",
    "df=operator_nulls[~operator_nulls['internal'].isnull()]\n",
    "df.isnull().sum()"
   ]
  },
  {
   "cell_type": "code",
   "execution_count": 96,
   "metadata": {},
   "outputs": [
    {
     "name": "stdout",
     "output_type": "stream",
     "text": [
      "There are 4179 duplicates\n",
      "<class 'pandas.core.frame.DataFrame'>\n",
      "RangeIndex: 41491 entries, 0 to 41490\n",
      "Data columns (total 11 columns):\n",
      "user_id                41491 non-null int64\n",
      "date                   41491 non-null object\n",
      "direction              41491 non-null object\n",
      "internal               41491 non-null object\n",
      "operator_id            41491 non-null float64\n",
      "is_missed_call         41491 non-null bool\n",
      "calls_count            41491 non-null int64\n",
      "call_duration          41491 non-null int64\n",
      "total_call_duration    41491 non-null int64\n",
      "tariff_plan            41491 non-null object\n",
      "date_start             41491 non-null object\n",
      "dtypes: bool(1), float64(1), int64(4), object(5)\n",
      "memory usage: 3.2+ MB\n"
     ]
    }
   ],
   "source": [
    "#check for duplicates\n",
    "print('There are {} duplicates'.format(df.duplicated().sum()))\n",
    "df_clean=df[~df.duplicated()]\n",
    "df_clean=df_clean.reset_index(drop=True)\n",
    "df_clean.info()"
   ]
  },
  {
   "cell_type": "code",
   "execution_count": 97,
   "metadata": {},
   "outputs": [],
   "source": [
    "df_clean['operator_id']=df_clean['operator_id'].astype('int32')\n",
    "df_clean['user_id']=df_clean['user_id'].astype('int32')\n",
    "df_clean['direction']=df_clean['direction'].astype('category')\n",
    "df_clean['internal']=df_clean['internal'].astype('category')\n",
    "df_clean['is_missed_call']=df_clean['is_missed_call'].astype('category')\n",
    "df_clean['tariff_plan']=df_clean['tariff_plan'].astype('category')\n",
    "df_clean['date_start']=df_clean['date_start'].astype('datetime64[D]')\n",
    "df_clean['date']=df_clean['date'].astype('datetime64[D]')"
   ]
  },
  {
   "cell_type": "code",
   "execution_count": 98,
   "metadata": {},
   "outputs": [
    {
     "name": "stdout",
     "output_type": "stream",
     "text": [
      "<class 'pandas.core.frame.DataFrame'>\n",
      "RangeIndex: 41491 entries, 0 to 41490\n",
      "Data columns (total 11 columns):\n",
      "user_id                41491 non-null int32\n",
      "date                   41491 non-null datetime64[ns]\n",
      "direction              41491 non-null category\n",
      "internal               41491 non-null category\n",
      "operator_id            41491 non-null int32\n",
      "is_missed_call         41491 non-null category\n",
      "calls_count            41491 non-null int64\n",
      "call_duration          41491 non-null int64\n",
      "total_call_duration    41491 non-null int64\n",
      "tariff_plan            41491 non-null category\n",
      "date_start             41491 non-null datetime64[ns]\n",
      "dtypes: category(4), datetime64[ns](2), int32(2), int64(3)\n",
      "memory usage: 2.1 MB\n"
     ]
    }
   ],
   "source": [
    "df_clean.info()"
   ]
  },
  {
   "cell_type": "code",
   "execution_count": 99,
   "metadata": {},
   "outputs": [
    {
     "data": {
      "text/html": [
       "<div>\n",
       "<style scoped>\n",
       "    .dataframe tbody tr th:only-of-type {\n",
       "        vertical-align: middle;\n",
       "    }\n",
       "\n",
       "    .dataframe tbody tr th {\n",
       "        vertical-align: top;\n",
       "    }\n",
       "\n",
       "    .dataframe thead th {\n",
       "        text-align: right;\n",
       "    }\n",
       "</style>\n",
       "<table border=\"1\" class=\"dataframe\">\n",
       "  <thead>\n",
       "    <tr style=\"text-align: right;\">\n",
       "      <th></th>\n",
       "      <th>user_id</th>\n",
       "      <th>date</th>\n",
       "      <th>direction</th>\n",
       "      <th>internal</th>\n",
       "      <th>operator_id</th>\n",
       "      <th>is_missed_call</th>\n",
       "      <th>calls_count</th>\n",
       "      <th>call_duration</th>\n",
       "      <th>total_call_duration</th>\n",
       "      <th>tariff_plan</th>\n",
       "      <th>date_start</th>\n",
       "    </tr>\n",
       "  </thead>\n",
       "  <tbody>\n",
       "    <tr>\n",
       "      <th>count</th>\n",
       "      <td>41491.000000</td>\n",
       "      <td>41491</td>\n",
       "      <td>41491</td>\n",
       "      <td>41491</td>\n",
       "      <td>41491.000000</td>\n",
       "      <td>41491</td>\n",
       "      <td>41491.000000</td>\n",
       "      <td>41491.000000</td>\n",
       "      <td>41491.000000</td>\n",
       "      <td>41491</td>\n",
       "      <td>41491</td>\n",
       "    </tr>\n",
       "    <tr>\n",
       "      <th>unique</th>\n",
       "      <td>NaN</td>\n",
       "      <td>118</td>\n",
       "      <td>2</td>\n",
       "      <td>2</td>\n",
       "      <td>NaN</td>\n",
       "      <td>2</td>\n",
       "      <td>NaN</td>\n",
       "      <td>NaN</td>\n",
       "      <td>NaN</td>\n",
       "      <td>3</td>\n",
       "      <td>65</td>\n",
       "    </tr>\n",
       "    <tr>\n",
       "      <th>top</th>\n",
       "      <td>NaN</td>\n",
       "      <td>2019-11-24 00:00:00</td>\n",
       "      <td>out</td>\n",
       "      <td>False</td>\n",
       "      <td>NaN</td>\n",
       "      <td>False</td>\n",
       "      <td>NaN</td>\n",
       "      <td>NaN</td>\n",
       "      <td>NaN</td>\n",
       "      <td>C</td>\n",
       "      <td>2019-10-16 00:00:00</td>\n",
       "    </tr>\n",
       "    <tr>\n",
       "      <th>freq</th>\n",
       "      <td>NaN</td>\n",
       "      <td>987</td>\n",
       "      <td>28813</td>\n",
       "      <td>36161</td>\n",
       "      <td>NaN</td>\n",
       "      <td>27382</td>\n",
       "      <td>NaN</td>\n",
       "      <td>NaN</td>\n",
       "      <td>NaN</td>\n",
       "      <td>14811</td>\n",
       "      <td>2360</td>\n",
       "    </tr>\n",
       "    <tr>\n",
       "      <th>first</th>\n",
       "      <td>NaN</td>\n",
       "      <td>2019-08-01 00:00:00</td>\n",
       "      <td>NaN</td>\n",
       "      <td>NaN</td>\n",
       "      <td>NaN</td>\n",
       "      <td>NaN</td>\n",
       "      <td>NaN</td>\n",
       "      <td>NaN</td>\n",
       "      <td>NaN</td>\n",
       "      <td>NaN</td>\n",
       "      <td>2019-08-01 00:00:00</td>\n",
       "    </tr>\n",
       "    <tr>\n",
       "      <th>last</th>\n",
       "      <td>NaN</td>\n",
       "      <td>2019-11-27 00:00:00</td>\n",
       "      <td>NaN</td>\n",
       "      <td>NaN</td>\n",
       "      <td>NaN</td>\n",
       "      <td>NaN</td>\n",
       "      <td>NaN</td>\n",
       "      <td>NaN</td>\n",
       "      <td>NaN</td>\n",
       "      <td>NaN</td>\n",
       "      <td>2019-10-31 00:00:00</td>\n",
       "    </tr>\n",
       "    <tr>\n",
       "      <th>mean</th>\n",
       "      <td>167301.113543</td>\n",
       "      <td>NaN</td>\n",
       "      <td>NaN</td>\n",
       "      <td>NaN</td>\n",
       "      <td>916516.771155</td>\n",
       "      <td>NaN</td>\n",
       "      <td>16.921381</td>\n",
       "      <td>1010.940011</td>\n",
       "      <td>1323.153238</td>\n",
       "      <td>NaN</td>\n",
       "      <td>NaN</td>\n",
       "    </tr>\n",
       "    <tr>\n",
       "      <th>std</th>\n",
       "      <td>600.513986</td>\n",
       "      <td>NaN</td>\n",
       "      <td>NaN</td>\n",
       "      <td>NaN</td>\n",
       "      <td>21234.081589</td>\n",
       "      <td>NaN</td>\n",
       "      <td>59.786187</td>\n",
       "      <td>4066.666485</td>\n",
       "      <td>4788.953155</td>\n",
       "      <td>NaN</td>\n",
       "      <td>NaN</td>\n",
       "    </tr>\n",
       "    <tr>\n",
       "      <th>min</th>\n",
       "      <td>166377.000000</td>\n",
       "      <td>NaN</td>\n",
       "      <td>NaN</td>\n",
       "      <td>NaN</td>\n",
       "      <td>879896.000000</td>\n",
       "      <td>NaN</td>\n",
       "      <td>1.000000</td>\n",
       "      <td>0.000000</td>\n",
       "      <td>0.000000</td>\n",
       "      <td>NaN</td>\n",
       "      <td>NaN</td>\n",
       "    </tr>\n",
       "    <tr>\n",
       "      <th>25%</th>\n",
       "      <td>166782.000000</td>\n",
       "      <td>NaN</td>\n",
       "      <td>NaN</td>\n",
       "      <td>NaN</td>\n",
       "      <td>900790.000000</td>\n",
       "      <td>NaN</td>\n",
       "      <td>1.000000</td>\n",
       "      <td>0.000000</td>\n",
       "      <td>67.000000</td>\n",
       "      <td>NaN</td>\n",
       "      <td>NaN</td>\n",
       "    </tr>\n",
       "    <tr>\n",
       "      <th>50%</th>\n",
       "      <td>167175.000000</td>\n",
       "      <td>NaN</td>\n",
       "      <td>NaN</td>\n",
       "      <td>NaN</td>\n",
       "      <td>913938.000000</td>\n",
       "      <td>NaN</td>\n",
       "      <td>4.000000</td>\n",
       "      <td>106.000000</td>\n",
       "      <td>289.000000</td>\n",
       "      <td>NaN</td>\n",
       "      <td>NaN</td>\n",
       "    </tr>\n",
       "    <tr>\n",
       "      <th>75%</th>\n",
       "      <td>167827.000000</td>\n",
       "      <td>NaN</td>\n",
       "      <td>NaN</td>\n",
       "      <td>NaN</td>\n",
       "      <td>937708.000000</td>\n",
       "      <td>NaN</td>\n",
       "      <td>14.000000</td>\n",
       "      <td>772.000000</td>\n",
       "      <td>1107.000000</td>\n",
       "      <td>NaN</td>\n",
       "      <td>NaN</td>\n",
       "    </tr>\n",
       "    <tr>\n",
       "      <th>max</th>\n",
       "      <td>168606.000000</td>\n",
       "      <td>NaN</td>\n",
       "      <td>NaN</td>\n",
       "      <td>NaN</td>\n",
       "      <td>973286.000000</td>\n",
       "      <td>NaN</td>\n",
       "      <td>4817.000000</td>\n",
       "      <td>144395.000000</td>\n",
       "      <td>166155.000000</td>\n",
       "      <td>NaN</td>\n",
       "      <td>NaN</td>\n",
       "    </tr>\n",
       "  </tbody>\n",
       "</table>\n",
       "</div>"
      ],
      "text/plain": [
       "              user_id                 date direction internal    operator_id  \\\n",
       "count    41491.000000                41491     41491    41491   41491.000000   \n",
       "unique            NaN                  118         2        2            NaN   \n",
       "top               NaN  2019-11-24 00:00:00       out    False            NaN   \n",
       "freq              NaN                  987     28813    36161            NaN   \n",
       "first             NaN  2019-08-01 00:00:00       NaN      NaN            NaN   \n",
       "last              NaN  2019-11-27 00:00:00       NaN      NaN            NaN   \n",
       "mean    167301.113543                  NaN       NaN      NaN  916516.771155   \n",
       "std        600.513986                  NaN       NaN      NaN   21234.081589   \n",
       "min     166377.000000                  NaN       NaN      NaN  879896.000000   \n",
       "25%     166782.000000                  NaN       NaN      NaN  900790.000000   \n",
       "50%     167175.000000                  NaN       NaN      NaN  913938.000000   \n",
       "75%     167827.000000                  NaN       NaN      NaN  937708.000000   \n",
       "max     168606.000000                  NaN       NaN      NaN  973286.000000   \n",
       "\n",
       "       is_missed_call   calls_count  call_duration  total_call_duration  \\\n",
       "count           41491  41491.000000   41491.000000         41491.000000   \n",
       "unique              2           NaN            NaN                  NaN   \n",
       "top             False           NaN            NaN                  NaN   \n",
       "freq            27382           NaN            NaN                  NaN   \n",
       "first             NaN           NaN            NaN                  NaN   \n",
       "last              NaN           NaN            NaN                  NaN   \n",
       "mean              NaN     16.921381    1010.940011          1323.153238   \n",
       "std               NaN     59.786187    4066.666485          4788.953155   \n",
       "min               NaN      1.000000       0.000000             0.000000   \n",
       "25%               NaN      1.000000       0.000000            67.000000   \n",
       "50%               NaN      4.000000     106.000000           289.000000   \n",
       "75%               NaN     14.000000     772.000000          1107.000000   \n",
       "max               NaN   4817.000000  144395.000000        166155.000000   \n",
       "\n",
       "       tariff_plan           date_start  \n",
       "count        41491                41491  \n",
       "unique           3                   65  \n",
       "top              C  2019-10-16 00:00:00  \n",
       "freq         14811                 2360  \n",
       "first          NaN  2019-08-01 00:00:00  \n",
       "last           NaN  2019-10-31 00:00:00  \n",
       "mean           NaN                  NaN  \n",
       "std            NaN                  NaN  \n",
       "min            NaN                  NaN  \n",
       "25%            NaN                  NaN  \n",
       "50%            NaN                  NaN  \n",
       "75%            NaN                  NaN  \n",
       "max            NaN                  NaN  "
      ]
     },
     "execution_count": 99,
     "metadata": {},
     "output_type": "execute_result"
    }
   ],
   "source": [
    "df_clean.describe(include='all')"
   ]
  },
  {
   "cell_type": "markdown",
   "metadata": {},
   "source": [
    "* We see that the most popular date the data were retrieved was the 2019-11-24. \n",
    "* 28813 of calls out of 41491 are outgoing \n",
    "* Where 36161 are external. \n",
    "* 41491-27382=14109 are the missed calls\n",
    "* The most popular tariff plan is the C\n",
    "* The data are for clients that registered from 2019-08-01 till 2019-10-31\n",
    "* The day with the most registrations is the 2019-10-16 with 2360 new clients in that day."
   ]
  },
  {
   "cell_type": "markdown",
   "metadata": {},
   "source": [
    "* Define the attribute wait_duration = total_call_duration-call_duration.(We need this to identify the corrupted,anomaly, rows and remove them)"
   ]
  },
  {
   "cell_type": "code",
   "execution_count": 100,
   "metadata": {},
   "outputs": [],
   "source": [
    "df_clean['wait_duration']=df_clean['total_call_duration']-df_clean['call_duration']"
   ]
  },
  {
   "cell_type": "markdown",
   "metadata": {},
   "source": [
    "- Check for anomalies in the data, for example very short calls or short wait_duration"
   ]
  },
  {
   "cell_type": "code",
   "execution_count": 101,
   "metadata": {},
   "outputs": [
    {
     "data": {
      "text/plain": [
       "count    14109.000000\n",
       "mean       445.463038\n",
       "std       1544.636841\n",
       "min          0.000000\n",
       "25%         18.000000\n",
       "50%         80.000000\n",
       "75%        326.000000\n",
       "max      45312.000000\n",
       "Name: wait_duration, dtype: float64"
      ]
     },
     "execution_count": 101,
     "metadata": {},
     "output_type": "execute_result"
    }
   ],
   "source": [
    "#check average waiting time for the missed calls\n",
    "df_clean[df_clean['is_missed_call']==True]['wait_duration'].describe()"
   ]
  },
  {
   "cell_type": "code",
   "execution_count": 102,
   "metadata": {},
   "outputs": [
    {
     "data": {
      "image/png": "[encoded data removed]",
      "text/plain": [
       "<Figure size 432x288 with 1 Axes>"
      ]
     },
     "metadata": {
      "needs_background": "light"
     },
     "output_type": "display_data"
    }
   ],
   "source": [
    "#distribution of waiting time<400 sec\n",
    "df_clean[df_clean['wait_duration']<400]['wait_duration'].hist(bins=100)\n",
    "plt.title('Distribution of waiting time<400 sec',fontsize=20,color='b')\n",
    "plt.show()"
   ]
  },
  {
   "cell_type": "code",
   "execution_count": 103,
   "metadata": {},
   "outputs": [
    {
     "data": {
      "text/plain": [
       "count    11041.000000\n",
       "mean        86.680373\n",
       "std         99.539626\n",
       "min          0.000000\n",
       "25%         12.000000\n",
       "50%         45.000000\n",
       "75%        130.000000\n",
       "max        399.000000\n",
       "Name: wait_duration, dtype: float64"
      ]
     },
     "execution_count": 103,
     "metadata": {},
     "output_type": "execute_result"
    }
   ],
   "source": [
    "df_clean[(df_clean['wait_duration']<400) & (df_clean['is_missed_call']==True)]['wait_duration'].describe()"
   ]
  },
  {
   "cell_type": "code",
   "execution_count": 104,
   "metadata": {},
   "outputs": [
    {
     "data": {
      "text/html": [
       "<div>\n",
       "<style scoped>\n",
       "    .dataframe tbody tr th:only-of-type {\n",
       "        vertical-align: middle;\n",
       "    }\n",
       "\n",
       "    .dataframe tbody tr th {\n",
       "        vertical-align: top;\n",
       "    }\n",
       "\n",
       "    .dataframe thead th {\n",
       "        text-align: right;\n",
       "    }\n",
       "</style>\n",
       "<table border=\"1\" class=\"dataframe\">\n",
       "  <thead>\n",
       "    <tr style=\"text-align: right;\">\n",
       "      <th></th>\n",
       "      <th>user_id</th>\n",
       "      <th>date</th>\n",
       "      <th>direction</th>\n",
       "      <th>internal</th>\n",
       "      <th>operator_id</th>\n",
       "      <th>is_missed_call</th>\n",
       "      <th>calls_count</th>\n",
       "      <th>call_duration</th>\n",
       "      <th>total_call_duration</th>\n",
       "      <th>tariff_plan</th>\n",
       "      <th>date_start</th>\n",
       "      <th>wait_duration</th>\n",
       "    </tr>\n",
       "  </thead>\n",
       "  <tbody>\n",
       "    <tr>\n",
       "      <th>573</th>\n",
       "      <td>166405</td>\n",
       "      <td>2019-08-18</td>\n",
       "      <td>in</td>\n",
       "      <td>False</td>\n",
       "      <td>882684</td>\n",
       "      <td>True</td>\n",
       "      <td>1</td>\n",
       "      <td>0</td>\n",
       "      <td>7</td>\n",
       "      <td>B</td>\n",
       "      <td>2019-08-02</td>\n",
       "      <td>7</td>\n",
       "    </tr>\n",
       "    <tr>\n",
       "      <th>574</th>\n",
       "      <td>166405</td>\n",
       "      <td>2019-08-18</td>\n",
       "      <td>in</td>\n",
       "      <td>False</td>\n",
       "      <td>882686</td>\n",
       "      <td>True</td>\n",
       "      <td>1</td>\n",
       "      <td>0</td>\n",
       "      <td>5</td>\n",
       "      <td>B</td>\n",
       "      <td>2019-08-02</td>\n",
       "      <td>5</td>\n",
       "    </tr>\n",
       "    <tr>\n",
       "      <th>597</th>\n",
       "      <td>166405</td>\n",
       "      <td>2019-08-23</td>\n",
       "      <td>in</td>\n",
       "      <td>False</td>\n",
       "      <td>882684</td>\n",
       "      <td>True</td>\n",
       "      <td>1</td>\n",
       "      <td>0</td>\n",
       "      <td>14</td>\n",
       "      <td>B</td>\n",
       "      <td>2019-08-02</td>\n",
       "      <td>14</td>\n",
       "    </tr>\n",
       "    <tr>\n",
       "      <th>709</th>\n",
       "      <td>166405</td>\n",
       "      <td>2019-09-08</td>\n",
       "      <td>in</td>\n",
       "      <td>False</td>\n",
       "      <td>882686</td>\n",
       "      <td>True</td>\n",
       "      <td>1</td>\n",
       "      <td>0</td>\n",
       "      <td>8</td>\n",
       "      <td>B</td>\n",
       "      <td>2019-08-02</td>\n",
       "      <td>8</td>\n",
       "    </tr>\n",
       "    <tr>\n",
       "      <th>814</th>\n",
       "      <td>166405</td>\n",
       "      <td>2019-09-26</td>\n",
       "      <td>in</td>\n",
       "      <td>False</td>\n",
       "      <td>882684</td>\n",
       "      <td>True</td>\n",
       "      <td>1</td>\n",
       "      <td>0</td>\n",
       "      <td>16</td>\n",
       "      <td>B</td>\n",
       "      <td>2019-08-02</td>\n",
       "      <td>16</td>\n",
       "    </tr>\n",
       "  </tbody>\n",
       "</table>\n",
       "</div>"
      ],
      "text/plain": [
       "     user_id       date direction internal  operator_id is_missed_call  \\\n",
       "573   166405 2019-08-18        in    False       882684           True   \n",
       "574   166405 2019-08-18        in    False       882686           True   \n",
       "597   166405 2019-08-23        in    False       882684           True   \n",
       "709   166405 2019-09-08        in    False       882686           True   \n",
       "814   166405 2019-09-26        in    False       882684           True   \n",
       "\n",
       "     calls_count  call_duration  total_call_duration tariff_plan date_start  \\\n",
       "573            1              0                    7           B 2019-08-02   \n",
       "574            1              0                    5           B 2019-08-02   \n",
       "597            1              0                   14           B 2019-08-02   \n",
       "709            1              0                    8           B 2019-08-02   \n",
       "814            1              0                   16           B 2019-08-02   \n",
       "\n",
       "     wait_duration  \n",
       "573              7  \n",
       "574              5  \n",
       "597             14  \n",
       "709              8  \n",
       "814             16  "
      ]
     },
     "execution_count": 104,
     "metadata": {},
     "output_type": "execute_result"
    }
   ],
   "source": [
    "#Let's see how many short waiting periods are missed calls for incoming calls\n",
    "#incoming=df_clean['direction']=='in']\n",
    "df_clean[(df_clean['wait_duration']<20)\\\n",
    "         & (df_clean['is_missed_call']==True) & (df_clean['direction']=='in')].head()"
   ]
  },
  {
   "cell_type": "markdown",
   "metadata": {},
   "source": [
    "- 696 people were impatient to wait on the phone and hang it up within less 20 sec.We shouldn't take into account this missed calls in order to evaluate the effectiveness of an operator. Is not reliable.We will drop these rows\n",
    "* There are rows that were classified as missed calls but there is call_duration time(maybe due to some technical issue), we should isolate this anomalies and subtracted them from the rest data"
   ]
  },
  {
   "cell_type": "code",
   "execution_count": 105,
   "metadata": {},
   "outputs": [
    {
     "data": {
      "text/html": [
       "<div>\n",
       "<style scoped>\n",
       "    .dataframe tbody tr th:only-of-type {\n",
       "        vertical-align: middle;\n",
       "    }\n",
       "\n",
       "    .dataframe tbody tr th {\n",
       "        vertical-align: top;\n",
       "    }\n",
       "\n",
       "    .dataframe thead th {\n",
       "        text-align: right;\n",
       "    }\n",
       "</style>\n",
       "<table border=\"1\" class=\"dataframe\">\n",
       "  <thead>\n",
       "    <tr style=\"text-align: right;\">\n",
       "      <th></th>\n",
       "      <th>user_id</th>\n",
       "      <th>date</th>\n",
       "      <th>direction</th>\n",
       "      <th>internal</th>\n",
       "      <th>operator_id</th>\n",
       "      <th>is_missed_call</th>\n",
       "      <th>calls_count</th>\n",
       "      <th>call_duration</th>\n",
       "      <th>total_call_duration</th>\n",
       "      <th>tariff_plan</th>\n",
       "      <th>date_start</th>\n",
       "      <th>wait_duration</th>\n",
       "    </tr>\n",
       "  </thead>\n",
       "  <tbody>\n",
       "    <tr>\n",
       "      <th>1261</th>\n",
       "      <td>166405</td>\n",
       "      <td>2019-11-18</td>\n",
       "      <td>in</td>\n",
       "      <td>False</td>\n",
       "      <td>939478</td>\n",
       "      <td>True</td>\n",
       "      <td>1</td>\n",
       "      <td>165</td>\n",
       "      <td>173</td>\n",
       "      <td>B</td>\n",
       "      <td>2019-08-02</td>\n",
       "      <td>8</td>\n",
       "    </tr>\n",
       "    <tr>\n",
       "      <th>1287</th>\n",
       "      <td>166405</td>\n",
       "      <td>2019-11-20</td>\n",
       "      <td>in</td>\n",
       "      <td>False</td>\n",
       "      <td>882686</td>\n",
       "      <td>True</td>\n",
       "      <td>1</td>\n",
       "      <td>1</td>\n",
       "      <td>5</td>\n",
       "      <td>B</td>\n",
       "      <td>2019-08-02</td>\n",
       "      <td>4</td>\n",
       "    </tr>\n",
       "    <tr>\n",
       "      <th>1306</th>\n",
       "      <td>166405</td>\n",
       "      <td>2019-11-21</td>\n",
       "      <td>in</td>\n",
       "      <td>False</td>\n",
       "      <td>882686</td>\n",
       "      <td>True</td>\n",
       "      <td>1</td>\n",
       "      <td>1</td>\n",
       "      <td>5</td>\n",
       "      <td>B</td>\n",
       "      <td>2019-08-02</td>\n",
       "      <td>4</td>\n",
       "    </tr>\n",
       "  </tbody>\n",
       "</table>\n",
       "</div>"
      ],
      "text/plain": [
       "      user_id       date direction internal  operator_id is_missed_call  \\\n",
       "1261   166405 2019-11-18        in    False       939478           True   \n",
       "1287   166405 2019-11-20        in    False       882686           True   \n",
       "1306   166405 2019-11-21        in    False       882686           True   \n",
       "\n",
       "      calls_count  call_duration  total_call_duration tariff_plan date_start  \\\n",
       "1261            1            165                  173           B 2019-08-02   \n",
       "1287            1              1                    5           B 2019-08-02   \n",
       "1306            1              1                    5           B 2019-08-02   \n",
       "\n",
       "      wait_duration  \n",
       "1261              8  \n",
       "1287              4  \n",
       "1306              4  "
      ]
     },
     "metadata": {},
     "output_type": "display_data"
    },
    {
     "data": {
      "text/html": [
       "<div>\n",
       "<style scoped>\n",
       "    .dataframe tbody tr th:only-of-type {\n",
       "        vertical-align: middle;\n",
       "    }\n",
       "\n",
       "    .dataframe tbody tr th {\n",
       "        vertical-align: top;\n",
       "    }\n",
       "\n",
       "    .dataframe thead th {\n",
       "        text-align: right;\n",
       "    }\n",
       "</style>\n",
       "<table border=\"1\" class=\"dataframe\">\n",
       "  <thead>\n",
       "    <tr style=\"text-align: right;\">\n",
       "      <th></th>\n",
       "      <th>user_id</th>\n",
       "      <th>date</th>\n",
       "      <th>direction</th>\n",
       "      <th>internal</th>\n",
       "      <th>operator_id</th>\n",
       "      <th>is_missed_call</th>\n",
       "      <th>calls_count</th>\n",
       "      <th>call_duration</th>\n",
       "      <th>total_call_duration</th>\n",
       "      <th>tariff_plan</th>\n",
       "      <th>date_start</th>\n",
       "      <th>wait_duration</th>\n",
       "    </tr>\n",
       "  </thead>\n",
       "  <tbody>\n",
       "    <tr>\n",
       "      <th>0</th>\n",
       "      <td>166377</td>\n",
       "      <td>2019-08-04</td>\n",
       "      <td>out</td>\n",
       "      <td>True</td>\n",
       "      <td>880022</td>\n",
       "      <td>True</td>\n",
       "      <td>3</td>\n",
       "      <td>0</td>\n",
       "      <td>5</td>\n",
       "      <td>B</td>\n",
       "      <td>2019-08-01</td>\n",
       "      <td>5</td>\n",
       "    </tr>\n",
       "    <tr>\n",
       "      <th>1</th>\n",
       "      <td>166377</td>\n",
       "      <td>2019-08-04</td>\n",
       "      <td>out</td>\n",
       "      <td>True</td>\n",
       "      <td>880020</td>\n",
       "      <td>True</td>\n",
       "      <td>1</td>\n",
       "      <td>0</td>\n",
       "      <td>1</td>\n",
       "      <td>B</td>\n",
       "      <td>2019-08-01</td>\n",
       "      <td>1</td>\n",
       "    </tr>\n",
       "    <tr>\n",
       "      <th>2</th>\n",
       "      <td>166377</td>\n",
       "      <td>2019-08-04</td>\n",
       "      <td>out</td>\n",
       "      <td>True</td>\n",
       "      <td>880020</td>\n",
       "      <td>False</td>\n",
       "      <td>1</td>\n",
       "      <td>10</td>\n",
       "      <td>18</td>\n",
       "      <td>B</td>\n",
       "      <td>2019-08-01</td>\n",
       "      <td>8</td>\n",
       "    </tr>\n",
       "  </tbody>\n",
       "</table>\n",
       "</div>"
      ],
      "text/plain": [
       "   user_id       date direction internal  operator_id is_missed_call  \\\n",
       "0   166377 2019-08-04       out     True       880022           True   \n",
       "1   166377 2019-08-04       out     True       880020           True   \n",
       "2   166377 2019-08-04       out     True       880020          False   \n",
       "\n",
       "   calls_count  call_duration  total_call_duration tariff_plan date_start  \\\n",
       "0            3              0                    5           B 2019-08-01   \n",
       "1            1              0                    1           B 2019-08-01   \n",
       "2            1             10                   18           B 2019-08-01   \n",
       "\n",
       "   wait_duration  \n",
       "0              5  \n",
       "1              1  \n",
       "2              8  "
      ]
     },
     "execution_count": 105,
     "metadata": {},
     "output_type": "execute_result"
    }
   ],
   "source": [
    "false_missed_classified=df_clean[(df_clean['is_missed_call']==True) & (df_clean['call_duration']>0)]\n",
    "display(false_missed_classified.head(3))\n",
    "df_clean2=df_clean[~df_clean.index.isin(false_missed_classified.index)]\n",
    "df_clean2=df_clean2.reset_index(drop='all')\n",
    "df_clean2.head(3)"
   ]
  },
  {
   "cell_type": "markdown",
   "metadata": {},
   "source": [
    "- We will move out the missed calls with `wait_duration <15` since \n",
    "it wouldn't be fair to evaluate as inneficient an operator when the median \n",
    "of waiting duration is 80 sec and the mean 86.\n",
    "- Also we can't consider as an outgoing call from an operator when it has wait_duration 1-2 sec, hence we shouldn't invole this observations in our analysis cause are metrics that give efficiency value to an operator which would have been not fair for the rest of his colleageus."
   ]
  },
  {
   "cell_type": "code",
   "execution_count": 106,
   "metadata": {},
   "outputs": [
    {
     "data": {
      "text/html": [
       "<div>\n",
       "<style scoped>\n",
       "    .dataframe tbody tr th:only-of-type {\n",
       "        vertical-align: middle;\n",
       "    }\n",
       "\n",
       "    .dataframe tbody tr th {\n",
       "        vertical-align: top;\n",
       "    }\n",
       "\n",
       "    .dataframe thead th {\n",
       "        text-align: right;\n",
       "    }\n",
       "</style>\n",
       "<table border=\"1\" class=\"dataframe\">\n",
       "  <thead>\n",
       "    <tr style=\"text-align: right;\">\n",
       "      <th></th>\n",
       "      <th>user_id</th>\n",
       "      <th>date</th>\n",
       "      <th>direction</th>\n",
       "      <th>internal</th>\n",
       "      <th>operator_id</th>\n",
       "      <th>is_missed_call</th>\n",
       "      <th>calls_count</th>\n",
       "      <th>call_duration</th>\n",
       "      <th>total_call_duration</th>\n",
       "      <th>tariff_plan</th>\n",
       "      <th>date_start</th>\n",
       "      <th>wait_duration</th>\n",
       "    </tr>\n",
       "  </thead>\n",
       "  <tbody>\n",
       "    <tr>\n",
       "      <th>0</th>\n",
       "      <td>166377</td>\n",
       "      <td>2019-08-04</td>\n",
       "      <td>out</td>\n",
       "      <td>True</td>\n",
       "      <td>880022</td>\n",
       "      <td>True</td>\n",
       "      <td>3</td>\n",
       "      <td>0</td>\n",
       "      <td>5</td>\n",
       "      <td>B</td>\n",
       "      <td>2019-08-01</td>\n",
       "      <td>5</td>\n",
       "    </tr>\n",
       "    <tr>\n",
       "      <th>8</th>\n",
       "      <td>166377</td>\n",
       "      <td>2019-08-05</td>\n",
       "      <td>out</td>\n",
       "      <td>True</td>\n",
       "      <td>881278</td>\n",
       "      <td>True</td>\n",
       "      <td>2</td>\n",
       "      <td>0</td>\n",
       "      <td>5</td>\n",
       "      <td>B</td>\n",
       "      <td>2019-08-01</td>\n",
       "      <td>5</td>\n",
       "    </tr>\n",
       "    <tr>\n",
       "      <th>17</th>\n",
       "      <td>166377</td>\n",
       "      <td>2019-08-08</td>\n",
       "      <td>out</td>\n",
       "      <td>False</td>\n",
       "      <td>880028</td>\n",
       "      <td>True</td>\n",
       "      <td>2</td>\n",
       "      <td>0</td>\n",
       "      <td>2</td>\n",
       "      <td>B</td>\n",
       "      <td>2019-08-01</td>\n",
       "      <td>2</td>\n",
       "    </tr>\n",
       "    <tr>\n",
       "      <th>18</th>\n",
       "      <td>166377</td>\n",
       "      <td>2019-08-08</td>\n",
       "      <td>out</td>\n",
       "      <td>False</td>\n",
       "      <td>880022</td>\n",
       "      <td>True</td>\n",
       "      <td>2</td>\n",
       "      <td>0</td>\n",
       "      <td>10</td>\n",
       "      <td>B</td>\n",
       "      <td>2019-08-01</td>\n",
       "      <td>10</td>\n",
       "    </tr>\n",
       "    <tr>\n",
       "      <th>31</th>\n",
       "      <td>166377</td>\n",
       "      <td>2019-08-13</td>\n",
       "      <td>out</td>\n",
       "      <td>True</td>\n",
       "      <td>880026</td>\n",
       "      <td>True</td>\n",
       "      <td>2</td>\n",
       "      <td>0</td>\n",
       "      <td>0</td>\n",
       "      <td>B</td>\n",
       "      <td>2019-08-01</td>\n",
       "      <td>0</td>\n",
       "    </tr>\n",
       "  </tbody>\n",
       "</table>\n",
       "</div>"
      ],
      "text/plain": [
       "    user_id       date direction internal  operator_id is_missed_call  \\\n",
       "0    166377 2019-08-04       out     True       880022           True   \n",
       "8    166377 2019-08-05       out     True       881278           True   \n",
       "17   166377 2019-08-08       out    False       880028           True   \n",
       "18   166377 2019-08-08       out    False       880022           True   \n",
       "31   166377 2019-08-13       out     True       880026           True   \n",
       "\n",
       "    calls_count  call_duration  total_call_duration tariff_plan date_start  \\\n",
       "0             3              0                    5           B 2019-08-01   \n",
       "8             2              0                    5           B 2019-08-01   \n",
       "17            2              0                    2           B 2019-08-01   \n",
       "18            2              0                   10           B 2019-08-01   \n",
       "31            2              0                    0           B 2019-08-01   \n",
       "\n",
       "    wait_duration  \n",
       "0               5  \n",
       "8               5  \n",
       "17              2  \n",
       "18             10  \n",
       "31              0  "
      ]
     },
     "execution_count": 106,
     "metadata": {},
     "output_type": "execute_result"
    }
   ],
   "source": [
    "low_wait=df_clean2[(df_clean2['wait_duration']<15)\\\n",
    "                   & (df_clean2['is_missed_call']==True) & (df_clean2['calls_count']>1)]\n",
    "low_wait.head()"
   ]
  },
  {
   "cell_type": "code",
   "execution_count": 107,
   "metadata": {},
   "outputs": [],
   "source": [
    "df_clean3=df_clean2[~df_clean2.index.isin(low_wait.index)]\n",
    "df_clean3=df_clean3.reset_index(drop=True)"
   ]
  },
  {
   "cell_type": "code",
   "execution_count": 108,
   "metadata": {},
   "outputs": [
    {
     "name": "stdout",
     "output_type": "stream",
     "text": [
      "0 operators with more than one client.\n",
      "0 operators with more than one tariff_plan.\n"
     ]
    }
   ],
   "source": [
    "#Check number of operators per client\n",
    "operators_per_client=df_clean3.groupby('operator_id').agg({'user_id':'nunique'})\n",
    "print('{} operators with more than one client.'\\\n",
    "      .format(len(operators_per_client[operators_per_client['user_id']>1])))\n",
    "\n",
    "#plans per operator\n",
    "plan_per_operators=df_clean3.groupby('operator_id').agg({'tariff_plan':'nunique'})\n",
    "\n",
    "print('{} operators with more than one tariff_plan.'\\\n",
    "      .format(len(plan_per_operators[plan_per_operators['tariff_plan']>1])))"
   ]
  },
  {
   "cell_type": "markdown",
   "metadata": {},
   "source": [
    "- Check distribution of mean duration time of calls per operator for the whole time period of the data.Mean call duration per day and break it down also this per client, and then for internal/external and last level for incoming/outgoing calls"
   ]
  },
  {
   "cell_type": "code",
   "execution_count": 109,
   "metadata": {},
   "outputs": [
    {
     "data": {
      "image/png": "[encoded data removed]",
      "text/plain": [
       "<Figure size 1152x432 with 1 Axes>"
      ]
     },
     "metadata": {
      "needs_background": "light"
     },
     "output_type": "display_data"
    }
   ],
   "source": [
    "#Check distribution of mean duration time of call per operator for all time period of data\n",
    "mean_call=df_clean3.groupby('operator_id').agg({'call_duration':'sum','calls_count':'sum',})\n",
    "mean_call['call_mean_duration']=mean_call['call_duration']/mean_call['calls_count']\n",
    "\n",
    "#mean duration call per operator\n",
    "mean_call['call_mean_duration'].plot(figsize=(16,6))\n",
    "plt.title('Distribution of mean duration time of calls per operator',fontsize=20,color='b')\n",
    "plt.ylabel('Mean call duration per operator')\n",
    "plt.show()"
   ]
  },
  {
   "cell_type": "code",
   "execution_count": 110,
   "metadata": {},
   "outputs": [
    {
     "data": {
      "image/png": "[encoded data removed]",
      "text/plain": [
       "<Figure size 1152x432 with 1 Axes>"
      ]
     },
     "metadata": {
      "needs_background": "light"
     },
     "output_type": "display_data"
    }
   ],
   "source": [
    "#Check distribution of mean duration time per day\n",
    "mean_call_day=df_clean3.groupby('date').agg({'call_duration':'sum','calls_count':'sum',})\n",
    "mean_call_day['call_mean_duration_day']=mean_call_day['call_duration']/mean_call_day['calls_count']\n",
    "\n",
    "#mean duration call per operator\n",
    "mean_call_day['call_mean_duration_day'].plot(figsize=(16,6))\n",
    "plt.title('Distribution of mean call duration time per day',fontsize=20,color='b')\n",
    "plt.ylabel('Mean call duration')\n",
    "plt.show()"
   ]
  },
  {
   "cell_type": "markdown",
   "metadata": {},
   "source": [
    "* Mean call duration between 15th of August to 15th September is higher than the rest days"
   ]
  },
  {
   "cell_type": "code",
   "execution_count": 111,
   "metadata": {},
   "outputs": [
    {
     "data": {
      "text/html": [
       "<div>\n",
       "<style scoped>\n",
       "    .dataframe tbody tr th:only-of-type {\n",
       "        vertical-align: middle;\n",
       "    }\n",
       "\n",
       "    .dataframe tbody tr th {\n",
       "        vertical-align: top;\n",
       "    }\n",
       "\n",
       "    .dataframe thead th {\n",
       "        text-align: right;\n",
       "    }\n",
       "</style>\n",
       "<table border=\"1\" class=\"dataframe\">\n",
       "  <thead>\n",
       "    <tr style=\"text-align: right;\">\n",
       "      <th></th>\n",
       "      <th>call_duration</th>\n",
       "      <th>calls_count</th>\n",
       "      <th>call_mean_duration</th>\n",
       "    </tr>\n",
       "    <tr>\n",
       "      <th>operator_id</th>\n",
       "      <th></th>\n",
       "      <th></th>\n",
       "      <th></th>\n",
       "    </tr>\n",
       "  </thead>\n",
       "  <tbody>\n",
       "    <tr>\n",
       "      <th>879896</th>\n",
       "      <td>63862</td>\n",
       "      <td>922</td>\n",
       "      <td>69.264642</td>\n",
       "    </tr>\n",
       "    <tr>\n",
       "      <th>879898</th>\n",
       "      <td>257389</td>\n",
       "      <td>7309</td>\n",
       "      <td>35.215351</td>\n",
       "    </tr>\n",
       "    <tr>\n",
       "      <th>880020</th>\n",
       "      <td>2245</td>\n",
       "      <td>37</td>\n",
       "      <td>60.675676</td>\n",
       "    </tr>\n",
       "    <tr>\n",
       "      <th>880022</th>\n",
       "      <td>15147</td>\n",
       "      <td>181</td>\n",
       "      <td>83.685083</td>\n",
       "    </tr>\n",
       "    <tr>\n",
       "      <th>880026</th>\n",
       "      <td>153326</td>\n",
       "      <td>2217</td>\n",
       "      <td>69.159224</td>\n",
       "    </tr>\n",
       "  </tbody>\n",
       "</table>\n",
       "</div>"
      ],
      "text/plain": [
       "             call_duration  calls_count  call_mean_duration\n",
       "operator_id                                                \n",
       "879896               63862          922           69.264642\n",
       "879898              257389         7309           35.215351\n",
       "880020                2245           37           60.675676\n",
       "880022               15147          181           83.685083\n",
       "880026              153326         2217           69.159224"
      ]
     },
     "execution_count": 111,
     "metadata": {},
     "output_type": "execute_result"
    }
   ],
   "source": [
    "mean_call.head()"
   ]
  },
  {
   "cell_type": "code",
   "execution_count": 112,
   "metadata": {},
   "outputs": [
    {
     "data": {
      "image/png": "[encoded data removed]",
      "text/plain": [
       "<Figure size 1152x432 with 1 Axes>"
      ]
     },
     "metadata": {
      "needs_background": "light"
     },
     "output_type": "display_data"
    }
   ],
   "source": [
    "#Check distribution of call mean duration time per day per operator\n",
    "mean_call_day_operator=df_clean3.groupby(['date','operator_id']).agg({'call_duration':'sum','calls_count':'sum',})\n",
    "mean_call_day_operator['call_mean_duration_day_oper']=\\\n",
    "mean_call_day_operator['call_duration']/mean_call_day_operator['calls_count']\n",
    "\n",
    "#mean duration call per operator\n",
    "mean_call_day_operator['call_mean_duration_day_oper'].plot(figsize=(16,6))\n",
    "plt.title('Distribution of mean call duration time per day per operator',fontsize=20,color='b')\n",
    "plt.xticks(rotation=30)\n",
    "plt.ylabel('Mean call duration')\n",
    "plt.show()"
   ]
  },
  {
   "cell_type": "markdown",
   "metadata": {},
   "source": [
    "* We see some operators to be far away from the others. We should consider those as outliers, and not take then into account when we wanna estimate the thresholds about our business metrics"
   ]
  },
  {
   "cell_type": "code",
   "execution_count": 113,
   "metadata": {},
   "outputs": [
    {
     "data": {
      "text/html": [
       "<div>\n",
       "<style scoped>\n",
       "    .dataframe tbody tr th:only-of-type {\n",
       "        vertical-align: middle;\n",
       "    }\n",
       "\n",
       "    .dataframe tbody tr th {\n",
       "        vertical-align: top;\n",
       "    }\n",
       "\n",
       "    .dataframe thead th {\n",
       "        text-align: right;\n",
       "    }\n",
       "</style>\n",
       "<table border=\"1\" class=\"dataframe\">\n",
       "  <thead>\n",
       "    <tr style=\"text-align: right;\">\n",
       "      <th></th>\n",
       "      <th>call_duration</th>\n",
       "      <th>calls_count</th>\n",
       "      <th>call_mean_duration</th>\n",
       "    </tr>\n",
       "    <tr>\n",
       "      <th>operator_id</th>\n",
       "      <th></th>\n",
       "      <th></th>\n",
       "      <th></th>\n",
       "    </tr>\n",
       "  </thead>\n",
       "  <tbody>\n",
       "    <tr>\n",
       "      <th>879896</th>\n",
       "      <td>63862</td>\n",
       "      <td>922</td>\n",
       "      <td>69.264642</td>\n",
       "    </tr>\n",
       "    <tr>\n",
       "      <th>879898</th>\n",
       "      <td>257389</td>\n",
       "      <td>7309</td>\n",
       "      <td>35.215351</td>\n",
       "    </tr>\n",
       "    <tr>\n",
       "      <th>880020</th>\n",
       "      <td>2245</td>\n",
       "      <td>37</td>\n",
       "      <td>60.675676</td>\n",
       "    </tr>\n",
       "    <tr>\n",
       "      <th>880022</th>\n",
       "      <td>15147</td>\n",
       "      <td>181</td>\n",
       "      <td>83.685083</td>\n",
       "    </tr>\n",
       "    <tr>\n",
       "      <th>880026</th>\n",
       "      <td>153326</td>\n",
       "      <td>2217</td>\n",
       "      <td>69.159224</td>\n",
       "    </tr>\n",
       "  </tbody>\n",
       "</table>\n",
       "</div>"
      ],
      "text/plain": [
       "             call_duration  calls_count  call_mean_duration\n",
       "operator_id                                                \n",
       "879896               63862          922           69.264642\n",
       "879898              257389         7309           35.215351\n",
       "880020                2245           37           60.675676\n",
       "880022               15147          181           83.685083\n",
       "880026              153326         2217           69.159224"
      ]
     },
     "execution_count": 113,
     "metadata": {},
     "output_type": "execute_result"
    }
   ],
   "source": [
    "mean_call.head()"
   ]
  },
  {
   "cell_type": "code",
   "execution_count": 116,
   "metadata": {},
   "outputs": [
    {
     "data": {
      "text/html": [
       "<div>\n",
       "<style scoped>\n",
       "    .dataframe tbody tr th:only-of-type {\n",
       "        vertical-align: middle;\n",
       "    }\n",
       "\n",
       "    .dataframe tbody tr th {\n",
       "        vertical-align: top;\n",
       "    }\n",
       "\n",
       "    .dataframe thead th {\n",
       "        text-align: right;\n",
       "    }\n",
       "</style>\n",
       "<table border=\"1\" class=\"dataframe\">\n",
       "  <thead>\n",
       "    <tr style=\"text-align: right;\">\n",
       "      <th></th>\n",
       "      <th>call_duration</th>\n",
       "      <th>calls_count</th>\n",
       "      <th>call_mean_duration</th>\n",
       "    </tr>\n",
       "    <tr>\n",
       "      <th>operator_id</th>\n",
       "      <th></th>\n",
       "      <th></th>\n",
       "      <th></th>\n",
       "    </tr>\n",
       "  </thead>\n",
       "  <tbody>\n",
       "    <tr>\n",
       "      <th>891154</th>\n",
       "      <td>243908</td>\n",
       "      <td>525</td>\n",
       "      <td>464.586667</td>\n",
       "    </tr>\n",
       "    <tr>\n",
       "      <th>918390</th>\n",
       "      <td>118018</td>\n",
       "      <td>246</td>\n",
       "      <td>479.747967</td>\n",
       "    </tr>\n",
       "    <tr>\n",
       "      <th>890232</th>\n",
       "      <td>13484</td>\n",
       "      <td>33</td>\n",
       "      <td>408.606061</td>\n",
       "    </tr>\n",
       "    <tr>\n",
       "      <th>910926</th>\n",
       "      <td>10125</td>\n",
       "      <td>25</td>\n",
       "      <td>405.000000</td>\n",
       "    </tr>\n",
       "    <tr>\n",
       "      <th>897894</th>\n",
       "      <td>9230</td>\n",
       "      <td>19</td>\n",
       "      <td>485.789474</td>\n",
       "    </tr>\n",
       "    <tr>\n",
       "      <th>969600</th>\n",
       "      <td>7823</td>\n",
       "      <td>19</td>\n",
       "      <td>411.736842</td>\n",
       "    </tr>\n",
       "    <tr>\n",
       "      <th>909452</th>\n",
       "      <td>3394</td>\n",
       "      <td>8</td>\n",
       "      <td>424.250000</td>\n",
       "    </tr>\n",
       "    <tr>\n",
       "      <th>891192</th>\n",
       "      <td>1306</td>\n",
       "      <td>1</td>\n",
       "      <td>1306.000000</td>\n",
       "    </tr>\n",
       "    <tr>\n",
       "      <th>907974</th>\n",
       "      <td>1281</td>\n",
       "      <td>3</td>\n",
       "      <td>427.000000</td>\n",
       "    </tr>\n",
       "    <tr>\n",
       "      <th>899898</th>\n",
       "      <td>1180</td>\n",
       "      <td>2</td>\n",
       "      <td>590.000000</td>\n",
       "    </tr>\n",
       "    <tr>\n",
       "      <th>917890</th>\n",
       "      <td>647</td>\n",
       "      <td>1</td>\n",
       "      <td>647.000000</td>\n",
       "    </tr>\n",
       "    <tr>\n",
       "      <th>899906</th>\n",
       "      <td>626</td>\n",
       "      <td>1</td>\n",
       "      <td>626.000000</td>\n",
       "    </tr>\n",
       "  </tbody>\n",
       "</table>\n",
       "</div>"
      ],
      "text/plain": [
       "             call_duration  calls_count  call_mean_duration\n",
       "operator_id                                                \n",
       "891154              243908          525          464.586667\n",
       "918390              118018          246          479.747967\n",
       "890232               13484           33          408.606061\n",
       "910926               10125           25          405.000000\n",
       "897894                9230           19          485.789474\n",
       "969600                7823           19          411.736842\n",
       "909452                3394            8          424.250000\n",
       "891192                1306            1         1306.000000\n",
       "907974                1281            3          427.000000\n",
       "899898                1180            2          590.000000\n",
       "917890                 647            1          647.000000\n",
       "899906                 626            1          626.000000"
      ]
     },
     "metadata": {},
     "output_type": "display_data"
    },
    {
     "name": "stdout",
     "output_type": "stream",
     "text": [
      "\u001b[43mThese Top operators are the 0.03% of operators.\u001b[0m\n"
     ]
    },
    {
     "data": {
      "image/png": "[encoded data removed]",
      "text/plain": [
       "<Figure size 648x432 with 1 Axes>"
      ]
     },
     "metadata": {
      "needs_background": "light"
     },
     "output_type": "display_data"
    }
   ],
   "source": [
    "#get those operators with high mean call duration\n",
    "top_operators=mean_call[mean_call['call_mean_duration']>400].sort_values('call_duration',ascending=False)\n",
    "top_operators.plot(kind='bar',figsize=(9,6))\n",
    "display(top_operators)\n",
    "print(colored('These Top operators are the {:.2%} of operators.'\\\n",
    "      .format(top_operators.shape[0]/df_clean3.shape[0]),on_color='on_yellow'))"
   ]
  },
  {
   "cell_type": "code",
   "execution_count": 117,
   "metadata": {},
   "outputs": [
    {
     "data": {
      "text/html": [
       "<div>\n",
       "<style scoped>\n",
       "    .dataframe tbody tr th:only-of-type {\n",
       "        vertical-align: middle;\n",
       "    }\n",
       "\n",
       "    .dataframe tbody tr th {\n",
       "        vertical-align: top;\n",
       "    }\n",
       "\n",
       "    .dataframe thead th {\n",
       "        text-align: right;\n",
       "    }\n",
       "</style>\n",
       "<table border=\"1\" class=\"dataframe\">\n",
       "  <thead>\n",
       "    <tr style=\"text-align: right;\">\n",
       "      <th></th>\n",
       "      <th>user_id</th>\n",
       "      <th>date</th>\n",
       "      <th>direction</th>\n",
       "      <th>internal</th>\n",
       "      <th>operator_id</th>\n",
       "      <th>is_missed_call</th>\n",
       "      <th>calls_count</th>\n",
       "      <th>call_duration</th>\n",
       "      <th>total_call_duration</th>\n",
       "      <th>tariff_plan</th>\n",
       "      <th>date_start</th>\n",
       "      <th>wait_duration</th>\n",
       "    </tr>\n",
       "  </thead>\n",
       "  <tbody>\n",
       "    <tr>\n",
       "      <th>0</th>\n",
       "      <td>166377</td>\n",
       "      <td>2019-08-04</td>\n",
       "      <td>out</td>\n",
       "      <td>True</td>\n",
       "      <td>880020</td>\n",
       "      <td>True</td>\n",
       "      <td>1</td>\n",
       "      <td>0</td>\n",
       "      <td>1</td>\n",
       "      <td>B</td>\n",
       "      <td>2019-08-01</td>\n",
       "      <td>1</td>\n",
       "    </tr>\n",
       "    <tr>\n",
       "      <th>1</th>\n",
       "      <td>166377</td>\n",
       "      <td>2019-08-04</td>\n",
       "      <td>out</td>\n",
       "      <td>True</td>\n",
       "      <td>880020</td>\n",
       "      <td>False</td>\n",
       "      <td>1</td>\n",
       "      <td>10</td>\n",
       "      <td>18</td>\n",
       "      <td>B</td>\n",
       "      <td>2019-08-01</td>\n",
       "      <td>8</td>\n",
       "    </tr>\n",
       "    <tr>\n",
       "      <th>2</th>\n",
       "      <td>166377</td>\n",
       "      <td>2019-08-04</td>\n",
       "      <td>out</td>\n",
       "      <td>False</td>\n",
       "      <td>880022</td>\n",
       "      <td>True</td>\n",
       "      <td>3</td>\n",
       "      <td>0</td>\n",
       "      <td>25</td>\n",
       "      <td>B</td>\n",
       "      <td>2019-08-01</td>\n",
       "      <td>25</td>\n",
       "    </tr>\n",
       "    <tr>\n",
       "      <th>3</th>\n",
       "      <td>166377</td>\n",
       "      <td>2019-08-04</td>\n",
       "      <td>out</td>\n",
       "      <td>False</td>\n",
       "      <td>880020</td>\n",
       "      <td>False</td>\n",
       "      <td>2</td>\n",
       "      <td>3</td>\n",
       "      <td>29</td>\n",
       "      <td>B</td>\n",
       "      <td>2019-08-01</td>\n",
       "      <td>26</td>\n",
       "    </tr>\n",
       "    <tr>\n",
       "      <th>4</th>\n",
       "      <td>166377</td>\n",
       "      <td>2019-08-04</td>\n",
       "      <td>out</td>\n",
       "      <td>False</td>\n",
       "      <td>880020</td>\n",
       "      <td>True</td>\n",
       "      <td>8</td>\n",
       "      <td>0</td>\n",
       "      <td>50</td>\n",
       "      <td>B</td>\n",
       "      <td>2019-08-01</td>\n",
       "      <td>50</td>\n",
       "    </tr>\n",
       "  </tbody>\n",
       "</table>\n",
       "</div>"
      ],
      "text/plain": [
       "   user_id       date direction internal  operator_id is_missed_call  \\\n",
       "0   166377 2019-08-04       out     True       880020           True   \n",
       "1   166377 2019-08-04       out     True       880020          False   \n",
       "2   166377 2019-08-04       out    False       880022           True   \n",
       "3   166377 2019-08-04       out    False       880020          False   \n",
       "4   166377 2019-08-04       out    False       880020           True   \n",
       "\n",
       "   calls_count  call_duration  total_call_duration tariff_plan date_start  \\\n",
       "0            1              0                    1           B 2019-08-01   \n",
       "1            1             10                   18           B 2019-08-01   \n",
       "2            3              0                   25           B 2019-08-01   \n",
       "3            2              3                   29           B 2019-08-01   \n",
       "4            8              0                   50           B 2019-08-01   \n",
       "\n",
       "   wait_duration  \n",
       "0              1  \n",
       "1              8  \n",
       "2             25  \n",
       "3             26  \n",
       "4             50  "
      ]
     },
     "execution_count": 117,
     "metadata": {},
     "output_type": "execute_result"
    }
   ],
   "source": [
    "df_clean3.head()"
   ]
  },
  {
   "cell_type": "code",
   "execution_count": 118,
   "metadata": {
    "scrolled": false
   },
   "outputs": [
    {
     "data": {
      "image/png": "[encoded data removed]",
      "text/plain": [
       "<Figure size 1152x648 with 1 Axes>"
      ]
     },
     "metadata": {
      "needs_background": "light"
     },
     "output_type": "display_data"
    },
    {
     "name": "stdout",
     "output_type": "stream",
     "text": [
      "\u001b[43mThe mean number of incoming missed calls is 2.37\u001b[0m\n",
      "\u001b[43m40 operators out of 167 have more than 3 incoming missed calls.\u001b[0m\n",
      "\u001b[43mThe mean time of incoming waiting calls is 22.56\u001b[0m\n"
     ]
    }
   ],
   "source": [
    "#for incoming calls. Internal and external\n",
    "incoming_missed_wait=df_clean3[(df_clean3['is_missed_call']==True) & (df_clean3['direction']=='in')]\\\n",
    ".groupby('operator_id').agg({'is_missed_call':'count','wait_duration':'mean'})\n",
    "incoming_missed_wait.plot(figsize=(16,9))\n",
    "plt.axhline(y=2.37,linestyle='--',color='r',label='Mean incoming missed calls')\n",
    "plt.axhline(y=22.56,linestyle='--',color='g',label='Mean wait duration for incoming calls')\n",
    "plt.title('Number of incoming missed calls per operator vs Mean wait time for incoming calls'\\\n",
    "          ,fontsize=15,color='blue')\n",
    "plt.legend()\n",
    "plt.show()\n",
    "print(colored('The mean number of incoming missed calls is {:.2f}'.\\\n",
    "     format(incoming_missed_wait['is_missed_call'].mean()),on_color='on_yellow'))\n",
    "print(colored('{} operators out of {} have more than 3 incoming missed calls.'\\\n",
    "      .format(incoming_missed_wait[incoming_missed_wait['is_missed_call']>=3].shape[0],\\\n",
    "             incoming_missed_wait.shape[0]),on_color='on_yellow'))\n",
    "print(colored('The mean time of incoming waiting calls is {:.2f}'.\\\n",
    "     format(incoming_missed_wait['wait_duration'].mean()),on_color='on_yellow'))"
   ]
  },
  {
   "cell_type": "code",
   "execution_count": 119,
   "metadata": {},
   "outputs": [
    {
     "data": {
      "image/png": "[encoded data removed]",
      "text/plain": [
       "<Figure size 1152x648 with 1 Axes>"
      ]
     },
     "metadata": {
      "needs_background": "light"
     },
     "output_type": "display_data"
    },
    {
     "name": "stdout",
     "output_type": "stream",
     "text": [
      "\u001b[43mThe median number of outgoing calls is 18.0\u001b[0m\n"
     ]
    }
   ],
   "source": [
    "#for outgoing, the number of calls per operator\n",
    "df_clean3[df_clean3['direction']=='out'].groupby('operator_id').agg({'calls_count':'sum'}).plot(figsize=(16,9))\n",
    "plt.axhline(y=19,linestyle='--',color='r',label='Median number for outgoing calls')\n",
    "plt.title('Outgoing number of calls per operator',fontsize=15,color='blue')\n",
    "plt.legend()\n",
    "plt.show()\n",
    "print(colored('The median number of outgoing calls is {}'\\\n",
    "      .format(df_clean3[df_clean3['direction']=='out']\\\n",
    "              .groupby('operator_id').agg({'calls_count':'count'})['calls_count'].median()),on_color='on_yellow'))"
   ]
  },
  {
   "cell_type": "markdown",
   "metadata": {},
   "source": [
    "### Testing hypotheses\n",
    "\n",
    "- Null hypothesis H0: Is the mean number of incoming missed calls the same between the tariffs?\n",
    "- Alternative hypothesis H1: it is not"
   ]
  },
  {
   "cell_type": "code",
   "execution_count": 120,
   "metadata": {},
   "outputs": [
    {
     "data": {
      "text/html": [
       "<div>\n",
       "<style scoped>\n",
       "    .dataframe tbody tr th:only-of-type {\n",
       "        vertical-align: middle;\n",
       "    }\n",
       "\n",
       "    .dataframe tbody tr th {\n",
       "        vertical-align: top;\n",
       "    }\n",
       "\n",
       "    .dataframe thead th {\n",
       "        text-align: right;\n",
       "    }\n",
       "</style>\n",
       "<table border=\"1\" class=\"dataframe\">\n",
       "  <thead>\n",
       "    <tr style=\"text-align: right;\">\n",
       "      <th></th>\n",
       "      <th>user_id</th>\n",
       "      <th>date</th>\n",
       "      <th>direction</th>\n",
       "      <th>internal</th>\n",
       "      <th>operator_id</th>\n",
       "      <th>is_missed_call</th>\n",
       "      <th>calls_count</th>\n",
       "      <th>call_duration</th>\n",
       "      <th>total_call_duration</th>\n",
       "      <th>tariff_plan</th>\n",
       "      <th>date_start</th>\n",
       "      <th>wait_duration</th>\n",
       "    </tr>\n",
       "  </thead>\n",
       "  <tbody>\n",
       "    <tr>\n",
       "      <th>0</th>\n",
       "      <td>166377</td>\n",
       "      <td>2019-08-04</td>\n",
       "      <td>out</td>\n",
       "      <td>True</td>\n",
       "      <td>880022</td>\n",
       "      <td>True</td>\n",
       "      <td>3</td>\n",
       "      <td>0</td>\n",
       "      <td>5</td>\n",
       "      <td>B</td>\n",
       "      <td>2019-08-01</td>\n",
       "      <td>5</td>\n",
       "    </tr>\n",
       "    <tr>\n",
       "      <th>1</th>\n",
       "      <td>166377</td>\n",
       "      <td>2019-08-04</td>\n",
       "      <td>out</td>\n",
       "      <td>True</td>\n",
       "      <td>880020</td>\n",
       "      <td>True</td>\n",
       "      <td>1</td>\n",
       "      <td>0</td>\n",
       "      <td>1</td>\n",
       "      <td>B</td>\n",
       "      <td>2019-08-01</td>\n",
       "      <td>1</td>\n",
       "    </tr>\n",
       "    <tr>\n",
       "      <th>2</th>\n",
       "      <td>166377</td>\n",
       "      <td>2019-08-04</td>\n",
       "      <td>out</td>\n",
       "      <td>True</td>\n",
       "      <td>880020</td>\n",
       "      <td>False</td>\n",
       "      <td>1</td>\n",
       "      <td>10</td>\n",
       "      <td>18</td>\n",
       "      <td>B</td>\n",
       "      <td>2019-08-01</td>\n",
       "      <td>8</td>\n",
       "    </tr>\n",
       "    <tr>\n",
       "      <th>3</th>\n",
       "      <td>166377</td>\n",
       "      <td>2019-08-04</td>\n",
       "      <td>out</td>\n",
       "      <td>False</td>\n",
       "      <td>880022</td>\n",
       "      <td>True</td>\n",
       "      <td>3</td>\n",
       "      <td>0</td>\n",
       "      <td>25</td>\n",
       "      <td>B</td>\n",
       "      <td>2019-08-01</td>\n",
       "      <td>25</td>\n",
       "    </tr>\n",
       "    <tr>\n",
       "      <th>4</th>\n",
       "      <td>166377</td>\n",
       "      <td>2019-08-04</td>\n",
       "      <td>out</td>\n",
       "      <td>False</td>\n",
       "      <td>880020</td>\n",
       "      <td>False</td>\n",
       "      <td>2</td>\n",
       "      <td>3</td>\n",
       "      <td>29</td>\n",
       "      <td>B</td>\n",
       "      <td>2019-08-01</td>\n",
       "      <td>26</td>\n",
       "    </tr>\n",
       "  </tbody>\n",
       "</table>\n",
       "</div>"
      ],
      "text/plain": [
       "   user_id       date direction internal  operator_id is_missed_call  \\\n",
       "0   166377 2019-08-04       out     True       880022           True   \n",
       "1   166377 2019-08-04       out     True       880020           True   \n",
       "2   166377 2019-08-04       out     True       880020          False   \n",
       "3   166377 2019-08-04       out    False       880022           True   \n",
       "4   166377 2019-08-04       out    False       880020          False   \n",
       "\n",
       "   calls_count  call_duration  total_call_duration tariff_plan date_start  \\\n",
       "0            3              0                    5           B 2019-08-01   \n",
       "1            1              0                    1           B 2019-08-01   \n",
       "2            1             10                   18           B 2019-08-01   \n",
       "3            3              0                   25           B 2019-08-01   \n",
       "4            2              3                   29           B 2019-08-01   \n",
       "\n",
       "   wait_duration  \n",
       "0              5  \n",
       "1              1  \n",
       "2              8  \n",
       "3             25  \n",
       "4             26  "
      ]
     },
     "execution_count": 120,
     "metadata": {},
     "output_type": "execute_result"
    }
   ],
   "source": [
    "df_clean.head()"
   ]
  },
  {
   "cell_type": "code",
   "execution_count": 121,
   "metadata": {},
   "outputs": [],
   "source": [
    "#We will test the hypothesis in raw data\n",
    "#sample for tarrif A\n",
    "sampleA=df_clean[(df_clean['direction']=='in') & (df_clean['is_missed_call']==True) & (df_clean['tariff_plan']=='A')]\\\n",
    ".groupby('date',as_index=False).agg({'is_missed_call':'count'})['is_missed_call']\n",
    "\n",
    "#sample for tarrif B\n",
    "sampleB=df_clean[(df_clean['direction']=='in') & (df_clean['is_missed_call']==True) & (df_clean['tariff_plan']=='B')]\\\n",
    ".groupby('date',as_index=False).agg({'is_missed_call':'count'})['is_missed_call']\n",
    "\n",
    "#sample for tarrif C\n",
    "sampleC=df_clean[(df_clean['direction']=='in') & (df_clean['is_missed_call']==True) & (df_clean['tariff_plan']=='C')]\\\n",
    ".groupby('date',as_index=False).agg({'is_missed_call':'count'})['is_missed_call']"
   ]
  },
  {
   "cell_type": "code",
   "execution_count": 122,
   "metadata": {},
   "outputs": [
    {
     "name": "stdout",
     "output_type": "stream",
     "text": [
      "For sampleA\n",
      "p-value:  1.4012692339804289e-08\n",
      "Null hypothesis rejected: the distribution is not normal\n",
      "================================\n",
      "For sampleB\n",
      "p-value:  5.82504935664474e-06\n",
      "Null hypothesis rejected: the distribution is not normal\n",
      "================================\n",
      "For sampleC\n",
      "p-value:  5.379479262046516e-06\n",
      "Null hypothesis rejected: the distribution is not normal\n"
     ]
    }
   ],
   "source": [
    "#checking the normality of our samples\n",
    "#for sampleA\n",
    "print('For sampleA')\n",
    "alpha = .05 # significance level\n",
    "\n",
    "results = st.shapiro(sampleA)\n",
    "p_value = results[1] # the second value in the array of results (with index 1) - the p-value\n",
    "\n",
    "print('p-value: ', p_value)\n",
    "\n",
    "if (p_value < alpha):\n",
    "    print(\"Null hypothesis rejected: the distribution is not normal\")\n",
    "else:\n",
    "    print(\"Failed to reject the null hypothesis: the distribution seems to be normal\") \n",
    "    \n",
    "print('================================')\n",
    "\n",
    "print('For sampleB')\n",
    "alpha = .05 # significance level\n",
    "\n",
    "results = st.shapiro(sampleB)\n",
    "p_value = results[1] # the second value in the array of results (with index 1) - the p-value\n",
    "\n",
    "print('p-value: ', p_value)\n",
    "\n",
    "if (p_value < alpha):\n",
    "    print(\"Null hypothesis rejected: the distribution is not normal\")\n",
    "else:\n",
    "    print(\"Failed to reject the null hypothesis: the distribution seems to be normal\") \n",
    "    \n",
    "print('================================')\n",
    "\n",
    "print('For sampleC')\n",
    "alpha = .05 # significance level\n",
    "\n",
    "results = st.shapiro(sampleC)\n",
    "p_value = results[1] # the second value in the array of results (with index 1) - the p-value\n",
    "\n",
    "print('p-value: ', p_value)\n",
    "\n",
    "if (p_value < alpha):\n",
    "    print(\"Null hypothesis rejected: the distribution is not normal\")\n",
    "else:\n",
    "    print(\"Failed to reject the null hypothesis: the distribution seems to be normal\") "
   ]
  },
  {
   "cell_type": "markdown",
   "metadata": {},
   "source": [
    "- Since our samples are not normal we will choose a no parametric test. The MannWhitney test.\n",
    "- Along side we will apply the Bonferroni correction to the alpha value since we will run more than one test at the same data"
   ]
  },
  {
   "cell_type": "code",
   "execution_count": 123,
   "metadata": {},
   "outputs": [
    {
     "name": "stdout",
     "output_type": "stream",
     "text": [
      "Test comparison between the sampleA,sampleB:\n",
      "p-value:  0.4140369189116001\n",
      "Failed to reject the null hypothesis: we can't make conclusions about the difference\n",
      "====================================\n",
      "Test comparison between the sampleB,sampleC:\n",
      "p-value:  0.14962590680256427\n",
      "Failed to reject the null hypothesis: we can't make conclusions about the difference\n",
      "====================================\n",
      "Test comparison between the sampleA,sampleC:\n",
      "p-value:  0.272293961589138\n",
      "Failed to reject the null hypothesis: we can't make conclusions about the difference\n"
     ]
    }
   ],
   "source": [
    "#apply The MannWhitney test and Bonferroni correction\n",
    "#Number of tests=3, hence alpha=0.05/3\n",
    "print('Test comparison between the sampleA,sampleB:')\n",
    "\n",
    "alpha = .0167 #significance level\n",
    "\n",
    "results = st.mannwhitneyu(sampleA, sampleB)\n",
    "\n",
    "print('p-value: ', results.pvalue)\n",
    "\n",
    "if (results.pvalue < alpha):\n",
    "    print(\"Null hypothesis rejected: the difference is statistically significant\")\n",
    "else:\n",
    "    print(\"Failed to reject the null hypothesis: we can't make conclusions about the difference\")\n",
    "    \n",
    "print('====================================')\n",
    "\n",
    "print('Test comparison between the sampleB,sampleC:')\n",
    "\n",
    "alpha = .0167 #significance level\n",
    "\n",
    "results = st.mannwhitneyu(sampleB, sampleC)\n",
    "\n",
    "print('p-value: ', results.pvalue)\n",
    "\n",
    "if (results.pvalue < alpha):\n",
    "    print(\"Null hypothesis rejected: the difference is statistically significant\")\n",
    "else:\n",
    "    print(\"Failed to reject the null hypothesis: we can't make conclusions about the difference\") \n",
    "    \n",
    "print('====================================')\n",
    "\n",
    "print('Test comparison between the sampleA,sampleC:')\n",
    "\n",
    "alpha = .0167 #significance level\n",
    "\n",
    "results = st.mannwhitneyu(sampleA, sampleC)\n",
    "\n",
    "print('p-value: ', results.pvalue)\n",
    "\n",
    "if (results.pvalue < alpha):\n",
    "    print(\"Null hypothesis rejected: the difference is statistically significant\")\n",
    "else:\n",
    "    print(\"Failed to reject the null hypothesis: we can't make conclusions about the difference\") "
   ]
  },
  {
   "cell_type": "markdown",
   "metadata": {},
   "source": [
    "- Means of incoming missed calls between the tariffs are most likely the same"
   ]
  },
  {
   "cell_type": "markdown",
   "metadata": {},
   "source": [
    "### Working with business metrics and indicators"
   ]
  },
  {
   "cell_type": "code",
   "execution_count": 124,
   "metadata": {},
   "outputs": [],
   "source": [
    "#1st metric : missed incoming missed calls - the less the better\n",
    "metric1=df_clean[(df_clean['is_missed_call']==True) & (df_clean['direction']=='in')]\\\n",
    ".groupby('operator_id',as_index=False).agg({'is_missed_call':'count'})\n",
    "\n",
    "#set the threshold that splits the innefective and effective operators within this metric\n",
    "threshold1=metric1['is_missed_call'].mean()\n",
    "\n",
    "#2nd metric : Mean wait_duration for incoming calls - the less the better\n",
    "metric2=df_clean[df_clean['direction']=='in'].groupby('operator_id',as_index=False).agg({'wait_duration':'mean'})\n",
    "\n",
    "#threshold for metric2\n",
    "threshold2=metric2['wait_duration'].mean()\n",
    "\n",
    "\n",
    "#3rd metric : Number of outgoing calls (with waiting time >5 sec for missed_calls)-the more the better\n",
    "#for outgoing missed calls\n",
    "metric3_missed=df_clean[(df_clean['is_missed_call']==True)\\\n",
    "                        & (df_clean['direction']=='out') & (df_clean['wait_duration']>5)]\\\n",
    ".groupby('operator_id',as_index=False).agg({'calls_count':'sum'})\n",
    "\n",
    "#threshold for metric3_missed \n",
    "threshold3=metric3_missed['calls_count'].median()\n",
    "\n",
    "#for not missed - the more the better\n",
    "metric3=df_clean[(df_clean['is_missed_call']==False) & (df_clean['direction']=='out')]\\\n",
    ".groupby('operator_id',as_index=False).agg({'calls_count':'sum'})\n",
    "#same threshold for here, the threshold3"
   ]
  },
  {
   "cell_type": "code",
   "execution_count": 125,
   "metadata": {},
   "outputs": [],
   "source": [
    "#i=operator\n",
    "def evaluation(i):\n",
    "    metric1=df_clean[(df_clean['is_missed_call']==True) & (df_clean['direction']=='in')]\\\n",
    "    .groupby('operator_id',as_index=False).agg({'is_missed_call':'count'})\n",
    "    threshold1=metric1['is_missed_call'].mean()\n",
    "    #===#\n",
    "    metric2=df_clean[df_clean['direction']=='in'].groupby('operator_id',as_index=False).agg({'wait_duration':'mean'})\n",
    "    threshold2=metric2['wait_duration'].mean()\n",
    "    #===#\n",
    "    metric3_missed=df_clean[(df_clean['is_missed_call']==True)\\\n",
    "                            & (df_clean['direction']=='out') & (df_clean['wait_duration']>5)]\\\n",
    "    .groupby('operator_id',as_index=False).agg({'calls_count':'sum'})\n",
    "    threshold3=metric3_missed['calls_count'].median()\n",
    "    #===#\n",
    "    metric3=df_clean[(df_clean['is_missed_call']==False) & (df_clean['direction']=='out')]\\\n",
    "    .groupby('operator_id',as_index=False).agg({'calls_count':'sum'})\n",
    "    #===#\n",
    "    a=0 \n",
    "    b=0\n",
    "    c=0\n",
    "    d=0\n",
    "    total_score=0\n",
    "    if i not in list(metric1['operator_id']):  \n",
    "        a+=0\n",
    "    elif metric1[metric1['operator_id']==i]['is_missed_call'].item()<threshold1:\n",
    "        a+=1\n",
    "    else:\n",
    "        a+=0\n",
    "        \n",
    "    if i not in list(metric2['operator_id']):\n",
    "        b+=0\n",
    "    elif metric2[metric2['operator_id']==i]['wait_duration'].item()<threshold2:\n",
    "        b+=1\n",
    "    else:\n",
    "        b+=0\n",
    "\n",
    "    if i not in list(metric3_missed['operator_id']):\n",
    "        c+=0\n",
    "    elif metric3_missed[metric3_missed['operator_id']==i]['calls_count'].item()>threshold3:\n",
    "        c+=1\n",
    "    else:\n",
    "        c+=0\n",
    "        \n",
    "    if i not in list(metric3['operator_id']):\n",
    "        d+=0\n",
    "    elif metric3[metric3['operator_id']==i]['calls_count'].item()>threshold3:\n",
    "        d+=1\n",
    "    else:\n",
    "        d+=0\n",
    "\n",
    "    total_score=a+b+c+d\n",
    "    if total_score>=2:\n",
    "        \n",
    "        return 'effective'\n",
    "    else:\n",
    "        return 'ineffective'\n"
   ]
  },
  {
   "cell_type": "code",
   "execution_count": 126,
   "metadata": {},
   "outputs": [],
   "source": [
    "df_clean['evaluation']=df_clean['operator_id'].apply(lambda x: evaluation(x))"
   ]
  },
  {
   "cell_type": "code",
   "execution_count": 127,
   "metadata": {},
   "outputs": [
    {
     "data": {
      "text/html": [
       "<div>\n",
       "<style scoped>\n",
       "    .dataframe tbody tr th:only-of-type {\n",
       "        vertical-align: middle;\n",
       "    }\n",
       "\n",
       "    .dataframe tbody tr th {\n",
       "        vertical-align: top;\n",
       "    }\n",
       "\n",
       "    .dataframe thead th {\n",
       "        text-align: right;\n",
       "    }\n",
       "</style>\n",
       "<table border=\"1\" class=\"dataframe\">\n",
       "  <thead>\n",
       "    <tr style=\"text-align: right;\">\n",
       "      <th></th>\n",
       "      <th>user_id</th>\n",
       "      <th>date</th>\n",
       "      <th>direction</th>\n",
       "      <th>internal</th>\n",
       "      <th>operator_id</th>\n",
       "      <th>is_missed_call</th>\n",
       "      <th>calls_count</th>\n",
       "      <th>call_duration</th>\n",
       "      <th>total_call_duration</th>\n",
       "      <th>tariff_plan</th>\n",
       "      <th>date_start</th>\n",
       "      <th>wait_duration</th>\n",
       "      <th>evaluation</th>\n",
       "    </tr>\n",
       "  </thead>\n",
       "  <tbody>\n",
       "    <tr>\n",
       "      <th>0</th>\n",
       "      <td>166377</td>\n",
       "      <td>2019-08-04</td>\n",
       "      <td>out</td>\n",
       "      <td>True</td>\n",
       "      <td>880022</td>\n",
       "      <td>True</td>\n",
       "      <td>3</td>\n",
       "      <td>0</td>\n",
       "      <td>5</td>\n",
       "      <td>B</td>\n",
       "      <td>2019-08-01</td>\n",
       "      <td>5</td>\n",
       "      <td>effective</td>\n",
       "    </tr>\n",
       "    <tr>\n",
       "      <th>1</th>\n",
       "      <td>166377</td>\n",
       "      <td>2019-08-04</td>\n",
       "      <td>out</td>\n",
       "      <td>True</td>\n",
       "      <td>880020</td>\n",
       "      <td>True</td>\n",
       "      <td>1</td>\n",
       "      <td>0</td>\n",
       "      <td>1</td>\n",
       "      <td>B</td>\n",
       "      <td>2019-08-01</td>\n",
       "      <td>1</td>\n",
       "      <td>ineffective</td>\n",
       "    </tr>\n",
       "    <tr>\n",
       "      <th>2</th>\n",
       "      <td>166377</td>\n",
       "      <td>2019-08-04</td>\n",
       "      <td>out</td>\n",
       "      <td>True</td>\n",
       "      <td>880020</td>\n",
       "      <td>False</td>\n",
       "      <td>1</td>\n",
       "      <td>10</td>\n",
       "      <td>18</td>\n",
       "      <td>B</td>\n",
       "      <td>2019-08-01</td>\n",
       "      <td>8</td>\n",
       "      <td>ineffective</td>\n",
       "    </tr>\n",
       "    <tr>\n",
       "      <th>3</th>\n",
       "      <td>166377</td>\n",
       "      <td>2019-08-04</td>\n",
       "      <td>out</td>\n",
       "      <td>False</td>\n",
       "      <td>880022</td>\n",
       "      <td>True</td>\n",
       "      <td>3</td>\n",
       "      <td>0</td>\n",
       "      <td>25</td>\n",
       "      <td>B</td>\n",
       "      <td>2019-08-01</td>\n",
       "      <td>25</td>\n",
       "      <td>effective</td>\n",
       "    </tr>\n",
       "    <tr>\n",
       "      <th>4</th>\n",
       "      <td>166377</td>\n",
       "      <td>2019-08-04</td>\n",
       "      <td>out</td>\n",
       "      <td>False</td>\n",
       "      <td>880020</td>\n",
       "      <td>False</td>\n",
       "      <td>2</td>\n",
       "      <td>3</td>\n",
       "      <td>29</td>\n",
       "      <td>B</td>\n",
       "      <td>2019-08-01</td>\n",
       "      <td>26</td>\n",
       "      <td>ineffective</td>\n",
       "    </tr>\n",
       "  </tbody>\n",
       "</table>\n",
       "</div>"
      ],
      "text/plain": [
       "   user_id       date direction internal  operator_id is_missed_call  \\\n",
       "0   166377 2019-08-04       out     True       880022           True   \n",
       "1   166377 2019-08-04       out     True       880020           True   \n",
       "2   166377 2019-08-04       out     True       880020          False   \n",
       "3   166377 2019-08-04       out    False       880022           True   \n",
       "4   166377 2019-08-04       out    False       880020          False   \n",
       "\n",
       "   calls_count  call_duration  total_call_duration tariff_plan date_start  \\\n",
       "0            3              0                    5           B 2019-08-01   \n",
       "1            1              0                    1           B 2019-08-01   \n",
       "2            1             10                   18           B 2019-08-01   \n",
       "3            3              0                   25           B 2019-08-01   \n",
       "4            2              3                   29           B 2019-08-01   \n",
       "\n",
       "   wait_duration   evaluation  \n",
       "0              5    effective  \n",
       "1              1  ineffective  \n",
       "2              8  ineffective  \n",
       "3             25    effective  \n",
       "4             26  ineffective  "
      ]
     },
     "execution_count": 127,
     "metadata": {},
     "output_type": "execute_result"
    }
   ],
   "source": [
    "df_clean.head()"
   ]
  },
  {
   "cell_type": "code",
   "execution_count": 128,
   "metadata": {},
   "outputs": [
    {
     "data": {
      "text/plain": [
       "effective      34109\n",
       "ineffective     7382\n",
       "Name: evaluation, dtype: int64"
      ]
     },
     "metadata": {},
     "output_type": "display_data"
    },
    {
     "name": "stdout",
     "output_type": "stream",
     "text": [
      "\u001b[43mThe 17.79% of the operators are ineffective\u001b[0m\n"
     ]
    },
    {
     "data": {
      "image/png": "[encoded data removed]",
      "text/plain": [
       "<Figure size 1152x1440 with 6 Axes>"
      ]
     },
     "metadata": {
      "needs_background": "light"
     },
     "output_type": "display_data"
    }
   ],
   "source": [
    "fig,axes=plt.subplots(3,2,figsize=(16,20))\n",
    "display(df_clean['evaluation'].value_counts())\n",
    "print(colored('The {:.2%} of the operators are ineffective'\\\n",
    "              .format(df_clean['evaluation'].value_counts()[1]/df_clean['evaluation']\\\n",
    "                      .value_counts().sum()),on_color='on_yellow'))\n",
    "\n",
    "#total effective ineffective operators\n",
    "df_clean['evaluation'].value_counts().plot(kind='bar',ax=axes[0,0],color='purple')\n",
    "axes[0,0].set_xticklabels(df_clean['evaluation'].value_counts().index,rotation=20)\n",
    "axes[0,0].set_title('Overall performance',fontsize=15,color='b')\n",
    "\n",
    "#break it down to each tariff\n",
    "df_clean.groupby('tariff_plan').agg({'evaluation':'value_counts'}).plot(kind='bar',ax=axes[0,1],color='g')\n",
    "axes[0,1].set_xticklabels(df_clean.groupby('tariff_plan').agg({'evaluation':'value_counts'}).index,rotation=9)\n",
    "axes[0,1].set_title('Performance per tariff',fontsize=15,color='b')\n",
    "\n",
    "#break it down to internal/external\n",
    "df_clean[df_clean['internal']==True].groupby('tariff_plan').agg({'evaluation':'value_counts'})\\\n",
    ".plot(kind='bar',ax=axes[1,0],color='y')\n",
    "axes[1,0].set_xticklabels(df_clean[df_clean['internal']==True].groupby('tariff_plan')\\\n",
    "                          .agg({'evaluation':'value_counts'}).index,rotation=9)\n",
    "axes[1,0].set_title('Internal/per tariff performance',fontsize=15,color='b')\n",
    "\n",
    "df_clean[df_clean['internal']==False].groupby('tariff_plan').agg({'evaluation':'value_counts'})\\\n",
    ".plot(kind='bar',ax=axes[1,1],color='b')\n",
    "axes[1,1].set_xticklabels(df_clean[df_clean['internal']==False].groupby('tariff_plan')\\\n",
    "                          .agg({'evaluation':'value_counts'}).index,rotation=9)\n",
    "axes[1,1].set_title('External/per tariff performance',fontsize=15,color='b')\n",
    "\n",
    "#break it down to incoming / outgoing and internal/external\n",
    "df_clean[(df_clean['internal']==True) & (df_clean['direction']=='in')].groupby('tariff_plan')\\\n",
    ".agg({'evaluation':'value_counts'}).plot(kind='bar',ax=axes[2,0],color='c')\n",
    "axes[2,0].set_title('Internal-Incoming/per tariff performance',fontsize=15,color='b')\n",
    "\n",
    "df_clean[(df_clean['internal']==False) & (df_clean['direction']=='out')].groupby('tariff_plan')\\\n",
    ".agg({'evaluation':'value_counts'}).plot(kind='bar',ax=axes[2,1],color='m')\n",
    "axes[2,1].set_title('External-Outgoing/per tariff performance',fontsize=15,color='b')\n",
    "\n",
    "plt.suptitle('Levels of effective/ineffective operators performance',fontsize=20,color='b')\n",
    "plt.show()"
   ]
  },
  {
   "cell_type": "markdown",
   "metadata": {},
   "source": [
    "### Conclusions-Recommendations\n",
    "- While missing values are related to the operators would be more wise to remove them and avoid to fill them since we have high responsibility on rating an operator as innefective or not within inaccurate data\n",
    "\n",
    "- We see that the most popular date that the data were retrieved was the 2019-11-24.\n",
    "- 28813 of calls out of 41491 are outgoing Where 36161 are external.\n",
    "- 41491-27382=14109 are the missed calls\n",
    "- The most popular tariff plan is the C\n",
    "- The data are for clients that registered from 2019-08-01 till 2019-10-31\n",
    "- The day with the most registrations is the 2019-10-16 with 2360 new clients in that day.\n",
    "\n",
    "696 people were impatient to wait on the phone and hang it up within less 15 sec.We didn't take into account this missed calls in order to evaluate the effectiveness of an operator. Is wouldn't be reliable or fair.We droped these rows.\n",
    "There are some rows that were classified as missed calls but there is call_duration time(maybe due to some technical issue), we isolated these anomalies and subtracted them from the rest of the data.\n",
    "\n",
    "- The rest observations have median of waiting duration 80 sec and the mean 86.\n",
    "Also we can't consider as an outgoing call from an operator when it has wait_duration 1-2 sec, hence we shouldn't invole this observations in our analysis cause are metrics that give virtual efficiency-value to an operator which would have been not fair for the rest of his colleageus.\n",
    "\n",
    "- We saw some operators to be far away from the others. We considered those as outliers, and not took them into account when we estimated the thresholds about our business metrics\n",
    "\n",
    "- In data with removed outliers, null values operators and anomalies:\n",
    "\n",
    "> - The mean number of incoming missed calls is 2.37,\n",
    "> - 40 operators out of 167 have more than 3 incoming missed calls.\n",
    "> - The mean time of incoming waiting calls is 22.56\n",
    "> - The median number of outgoing calls is 18.0\n",
    "\n",
    "\n",
    "- Test hypothesis showed that Means of incoming missed calls between the tariffs are most likely the same.\n",
    "- For the construction of the function that we evaluated the operators we worked with 3 metrics, the 3rd splitted in two parts, with 3 different thresholds that separates the effective/ineffective operators\n",
    ">- #1st metric : missed incoming missed calls - the less the better\n",
    ">- #2nd metric : Mean wait_duration for incoming calls - the less the better\n",
    ">- #3rd metric : Number of outgoing calls (with waiting time >5 sec for missed_calls)-the more the better\n",
    ">> - #for outgoing missed calls\n",
    ">> - #for not missed \n",
    "\n",
    "\n"
   ]
  }
 ],
 "metadata": {
  "ExecuteTimeLog": [
   {
    "duration": 1257,
    "start_time": "2021-09-02T16:38:27.979Z"
   },
   {
    "duration": 482,
    "start_time": "2021-09-02T16:38:29.238Z"
   },
   {
    "duration": 15,
    "start_time": "2021-09-02T16:38:29.724Z"
   },
   {
    "duration": 15,
    "start_time": "2021-09-02T16:38:29.740Z"
   },
   {
    "duration": 39,
    "start_time": "2021-09-02T16:38:29.757Z"
   },
   {
    "duration": 31,
    "start_time": "2021-09-02T16:38:29.798Z"
   },
   {
    "duration": 22,
    "start_time": "2021-09-02T16:38:29.832Z"
   },
   {
    "duration": 93,
    "start_time": "2021-09-02T16:38:29.857Z"
   },
   {
    "duration": 46,
    "start_time": "2021-09-02T16:38:29.952Z"
   },
   {
    "duration": 15,
    "start_time": "2021-09-02T16:38:30.000Z"
   },
   {
    "duration": 53,
    "start_time": "2021-09-02T16:38:30.017Z"
   },
   {
    "duration": 15,
    "start_time": "2021-09-02T16:38:30.072Z"
   },
   {
    "duration": 17,
    "start_time": "2021-09-02T16:38:30.088Z"
   },
   {
    "duration": 1469,
    "start_time": "2021-09-02T16:38:30.107Z"
   },
   {
    "duration": 11,
    "start_time": "2021-09-02T16:38:31.585Z"
   },
   {
    "duration": 24,
    "start_time": "2021-09-02T16:38:31.598Z"
   },
   {
    "duration": 37,
    "start_time": "2021-09-02T16:38:31.624Z"
   },
   {
    "duration": 25,
    "start_time": "2021-09-02T16:38:31.663Z"
   },
   {
    "duration": 9,
    "start_time": "2021-09-02T16:38:31.690Z"
   },
   {
    "duration": 18,
    "start_time": "2021-09-02T16:38:31.700Z"
   },
   {
    "duration": 356,
    "start_time": "2021-09-02T16:38:31.720Z"
   },
   {
    "duration": 405,
    "start_time": "2021-09-02T16:38:32.084Z"
   },
   {
    "duration": 832,
    "start_time": "2021-09-02T16:38:32.491Z"
   },
   {
    "duration": -1617,
    "start_time": "2021-09-02T16:38:34.942Z"
   },
   {
    "duration": -1618,
    "start_time": "2021-09-02T16:38:34.944Z"
   },
   {
    "duration": -1619,
    "start_time": "2021-09-02T16:38:34.946Z"
   },
   {
    "duration": -1619,
    "start_time": "2021-09-02T16:38:34.947Z"
   },
   {
    "duration": -1620,
    "start_time": "2021-09-02T16:38:34.949Z"
   },
   {
    "duration": -1620,
    "start_time": "2021-09-02T16:38:34.950Z"
   },
   {
    "duration": -1620,
    "start_time": "2021-09-02T16:38:34.952Z"
   },
   {
    "duration": -1624,
    "start_time": "2021-09-02T16:38:34.957Z"
   },
   {
    "duration": -1627,
    "start_time": "2021-09-02T16:38:34.961Z"
   },
   {
    "duration": -1629,
    "start_time": "2021-09-02T16:38:34.963Z"
   },
   {
    "duration": -1629,
    "start_time": "2021-09-02T16:38:34.965Z"
   },
   {
    "duration": 576,
    "start_time": "2021-09-02T16:41:50.859Z"
   },
   {
    "duration": 631,
    "start_time": "2021-09-02T16:41:51.989Z"
   },
   {
    "duration": 13,
    "start_time": "2021-09-02T16:41:52.912Z"
   },
   {
    "duration": 17,
    "start_time": "2021-09-02T16:41:53.336Z"
   },
   {
    "duration": 8,
    "start_time": "2021-09-02T16:41:53.824Z"
   },
   {
    "duration": 12,
    "start_time": "2021-09-02T16:41:54.490Z"
   },
   {
    "duration": 22,
    "start_time": "2021-09-02T16:41:55.376Z"
   },
   {
    "duration": 8,
    "start_time": "2021-09-02T16:41:55.632Z"
   },
   {
    "duration": 1275,
    "start_time": "2021-09-02T16:42:12.464Z"
   },
   {
    "duration": 260,
    "start_time": "2021-09-02T16:42:13.741Z"
   },
   {
    "duration": 14,
    "start_time": "2021-09-02T16:42:14.003Z"
   },
   {
    "duration": 13,
    "start_time": "2021-09-02T16:42:14.019Z"
   },
   {
    "duration": 20,
    "start_time": "2021-09-02T16:42:14.033Z"
   },
   {
    "duration": 52,
    "start_time": "2021-09-02T16:42:14.054Z"
   },
   {
    "duration": 20,
    "start_time": "2021-09-02T16:42:14.108Z"
   },
   {
    "duration": 76,
    "start_time": "2021-09-02T16:42:14.130Z"
   },
   {
    "duration": 34,
    "start_time": "2021-09-02T16:42:14.208Z"
   },
   {
    "duration": 12,
    "start_time": "2021-09-02T16:42:14.244Z"
   },
   {
    "duration": 47,
    "start_time": "2021-09-02T16:42:14.257Z"
   },
   {
    "duration": 4,
    "start_time": "2021-09-02T16:42:14.305Z"
   },
   {
    "duration": 28,
    "start_time": "2021-09-02T16:42:14.310Z"
   },
   {
    "duration": 2196,
    "start_time": "2021-09-02T16:42:14.339Z"
   },
   {
    "duration": 9,
    "start_time": "2021-09-02T16:42:16.537Z"
   },
   {
    "duration": 13,
    "start_time": "2021-09-02T16:42:16.548Z"
   },
   {
    "duration": 35,
    "start_time": "2021-09-02T16:42:16.562Z"
   },
   {
    "duration": 13,
    "start_time": "2021-09-02T16:42:16.598Z"
   },
   {
    "duration": 7,
    "start_time": "2021-09-02T16:42:16.613Z"
   },
   {
    "duration": 14,
    "start_time": "2021-09-02T16:42:16.621Z"
   },
   {
    "duration": 414,
    "start_time": "2021-09-02T16:42:16.636Z"
   },
   {
    "duration": 402,
    "start_time": "2021-09-02T16:42:17.052Z"
   },
   {
    "duration": 832,
    "start_time": "2021-09-02T16:42:17.456Z"
   },
   {
    "duration": -1612,
    "start_time": "2021-09-02T16:42:19.902Z"
   },
   {
    "duration": -1614,
    "start_time": "2021-09-02T16:42:19.905Z"
   },
   {
    "duration": -1617,
    "start_time": "2021-09-02T16:42:19.910Z"
   },
   {
    "duration": -1623,
    "start_time": "2021-09-02T16:42:19.917Z"
   },
   {
    "duration": -1630,
    "start_time": "2021-09-02T16:42:19.925Z"
   },
   {
    "duration": -1636,
    "start_time": "2021-09-02T16:42:19.932Z"
   },
   {
    "duration": -1638,
    "start_time": "2021-09-02T16:42:19.935Z"
   },
   {
    "duration": -1639,
    "start_time": "2021-09-02T16:42:19.937Z"
   },
   {
    "duration": -1641,
    "start_time": "2021-09-02T16:42:19.940Z"
   },
   {
    "duration": -1655,
    "start_time": "2021-09-02T16:42:19.955Z"
   },
   {
    "duration": -1657,
    "start_time": "2021-09-02T16:42:19.959Z"
   },
   {
    "duration": 1688,
    "start_time": "2021-09-02T17:04:44.951Z"
   },
   {
    "duration": 262,
    "start_time": "2021-09-02T17:04:46.641Z"
   },
   {
    "duration": 13,
    "start_time": "2021-09-02T17:04:46.905Z"
   },
   {
    "duration": 17,
    "start_time": "2021-09-02T17:04:46.919Z"
   },
   {
    "duration": 21,
    "start_time": "2021-09-02T17:04:46.938Z"
   },
   {
    "duration": 45,
    "start_time": "2021-09-02T17:04:46.961Z"
   },
   {
    "duration": 21,
    "start_time": "2021-09-02T17:04:47.008Z"
   },
   {
    "duration": 81,
    "start_time": "2021-09-02T17:04:47.030Z"
   },
   {
    "duration": 33,
    "start_time": "2021-09-02T17:04:47.113Z"
   },
   {
    "duration": 10,
    "start_time": "2021-09-02T17:04:47.148Z"
   },
   {
    "duration": 57,
    "start_time": "2021-09-02T17:04:47.160Z"
   },
   {
    "duration": 4,
    "start_time": "2021-09-02T17:04:47.218Z"
   },
   {
    "duration": 25,
    "start_time": "2021-09-02T17:04:47.223Z"
   },
   {
    "duration": 1999,
    "start_time": "2021-09-02T17:04:47.250Z"
   },
   {
    "duration": 10,
    "start_time": "2021-09-02T17:04:49.250Z"
   },
   {
    "duration": 31,
    "start_time": "2021-09-02T17:04:49.261Z"
   },
   {
    "duration": 28,
    "start_time": "2021-09-02T17:04:49.293Z"
   },
   {
    "duration": 13,
    "start_time": "2021-09-02T17:04:49.324Z"
   },
   {
    "duration": 8,
    "start_time": "2021-09-02T17:04:49.339Z"
   },
   {
    "duration": 42,
    "start_time": "2021-09-02T17:04:49.348Z"
   },
   {
    "duration": 341,
    "start_time": "2021-09-02T17:04:49.392Z"
   },
   {
    "duration": 422,
    "start_time": "2021-09-02T17:04:49.735Z"
   },
   {
    "duration": 334,
    "start_time": "2021-09-02T17:04:50.158Z"
   },
   {
    "duration": -1685,
    "start_time": "2021-09-02T17:04:52.178Z"
   },
   {
    "duration": -1685,
    "start_time": "2021-09-02T17:04:52.179Z"
   },
   {
    "duration": -1685,
    "start_time": "2021-09-02T17:04:52.180Z"
   },
   {
    "duration": -1686,
    "start_time": "2021-09-02T17:04:52.182Z"
   },
   {
    "duration": -1686,
    "start_time": "2021-09-02T17:04:52.183Z"
   },
   {
    "duration": -1687,
    "start_time": "2021-09-02T17:04:52.185Z"
   },
   {
    "duration": -1687,
    "start_time": "2021-09-02T17:04:52.186Z"
   },
   {
    "duration": -1688,
    "start_time": "2021-09-02T17:04:52.188Z"
   },
   {
    "duration": -1689,
    "start_time": "2021-09-02T17:04:52.190Z"
   },
   {
    "duration": -1692,
    "start_time": "2021-09-02T17:04:52.194Z"
   },
   {
    "duration": -1694,
    "start_time": "2021-09-02T17:04:52.196Z"
   },
   {
    "duration": 19,
    "start_time": "2021-09-02T17:28:37.212Z"
   },
   {
    "duration": 28,
    "start_time": "2021-09-02T17:28:54.262Z"
   },
   {
    "duration": 449,
    "start_time": "2021-09-02T17:29:23.699Z"
   },
   {
    "duration": 515,
    "start_time": "2021-09-02T17:29:59.920Z"
   },
   {
    "duration": 28,
    "start_time": "2021-09-02T17:30:18.543Z"
   },
   {
    "duration": 26,
    "start_time": "2021-09-02T17:30:22.560Z"
   },
   {
    "duration": 686,
    "start_time": "2021-09-02T17:31:13.580Z"
   },
   {
    "duration": 731,
    "start_time": "2021-09-02T17:31:24.907Z"
   },
   {
    "duration": 523,
    "start_time": "2021-09-02T17:31:40.547Z"
   },
   {
    "duration": 10,
    "start_time": "2021-09-02T17:31:53.402Z"
   },
   {
    "duration": 357,
    "start_time": "2021-09-02T17:32:01.882Z"
   },
   {
    "duration": 359,
    "start_time": "2021-09-02T17:32:16.186Z"
   },
   {
    "duration": 1538,
    "start_time": "2021-09-02T17:35:13.860Z"
   },
   {
    "duration": 2119,
    "start_time": "2021-09-02T17:35:20.989Z"
   },
   {
    "duration": 13,
    "start_time": "2021-09-02T17:35:26.884Z"
   },
   {
    "duration": 17,
    "start_time": "2021-09-02T17:35:29.876Z"
   },
   {
    "duration": 8,
    "start_time": "2021-09-02T17:35:31.508Z"
   },
   {
    "duration": 41,
    "start_time": "2021-09-02T17:35:31.518Z"
   },
   {
    "duration": 22,
    "start_time": "2021-09-02T17:35:32.844Z"
   },
   {
    "duration": 9,
    "start_time": "2021-09-02T17:35:33.364Z"
   },
   {
    "duration": 376719,
    "start_time": "2021-09-02T17:35:33.902Z"
   },
   {
    "duration": -1868,
    "start_time": "2021-09-02T17:41:52.492Z"
   },
   {
    "duration": -1877,
    "start_time": "2021-09-02T17:41:52.502Z"
   },
   {
    "duration": -1882,
    "start_time": "2021-09-02T17:41:52.509Z"
   },
   {
    "duration": 14,
    "start_time": "2021-09-02T17:43:59.829Z"
   },
   {
    "duration": 5440,
    "start_time": "2021-09-02T17:44:00.671Z"
   },
   {
    "duration": 1509,
    "start_time": "2021-09-03T12:04:07.779Z"
   },
   {
    "duration": 279,
    "start_time": "2021-09-03T12:04:10.640Z"
   },
   {
    "duration": 24,
    "start_time": "2021-09-03T12:04:10.921Z"
   },
   {
    "duration": 25,
    "start_time": "2021-09-03T12:04:11.036Z"
   },
   {
    "duration": 37,
    "start_time": "2021-09-03T12:04:11.237Z"
   },
   {
    "duration": 32,
    "start_time": "2021-09-03T12:04:12.304Z"
   },
   {
    "duration": 29,
    "start_time": "2021-09-03T12:04:12.543Z"
   },
   {
    "duration": 84,
    "start_time": "2021-09-03T12:04:12.755Z"
   },
   {
    "duration": 50,
    "start_time": "2021-09-03T12:05:16.430Z"
   },
   {
    "duration": 12,
    "start_time": "2021-09-03T12:05:19.203Z"
   },
   {
    "duration": 72,
    "start_time": "2021-09-03T12:05:20.012Z"
   },
   {
    "duration": 10,
    "start_time": "2021-09-03T12:05:21.462Z"
   },
   {
    "duration": 16,
    "start_time": "2021-09-03T12:05:22.851Z"
   },
   {
    "duration": 692,
    "start_time": "2021-09-03T12:05:23.728Z"
   },
   {
    "duration": 22,
    "start_time": "2021-09-03T12:05:29.694Z"
   },
   {
    "duration": 27,
    "start_time": "2021-09-03T12:05:29.947Z"
   },
   {
    "duration": 46,
    "start_time": "2021-09-03T12:05:32.670Z"
   },
   {
    "duration": 28,
    "start_time": "2021-09-03T12:05:35.329Z"
   },
   {
    "duration": 13,
    "start_time": "2021-09-03T12:05:38.087Z"
   },
   {
    "duration": 30,
    "start_time": "2021-09-03T12:05:44.043Z"
   },
   {
    "duration": 544,
    "start_time": "2021-09-03T12:06:15.464Z"
   },
   {
    "duration": 643,
    "start_time": "2021-09-03T12:09:12.383Z"
   },
   {
    "duration": 715,
    "start_time": "2021-09-03T12:10:59.170Z"
   },
   {
    "duration": 522,
    "start_time": "2021-09-03T12:21:34.376Z"
   },
   {
    "duration": 17,
    "start_time": "2021-09-03T12:25:46.844Z"
   },
   {
    "duration": 15,
    "start_time": "2021-09-03T12:26:14.632Z"
   },
   {
    "duration": 29,
    "start_time": "2021-09-03T12:26:24.029Z"
   },
   {
    "duration": 29,
    "start_time": "2021-09-03T12:27:45.896Z"
   },
   {
    "duration": 642,
    "start_time": "2021-09-03T12:30:06.137Z"
   },
   {
    "duration": 6773,
    "start_time": "2021-09-03T12:30:47.971Z"
   },
   {
    "duration": 566,
    "start_time": "2021-09-03T12:31:07.170Z"
   },
   {
    "duration": 20,
    "start_time": "2021-09-03T12:37:04.365Z"
   },
   {
    "duration": 279,
    "start_time": "2021-09-03T12:37:18.239Z"
   },
   {
    "duration": 830,
    "start_time": "2021-09-03T12:37:27.641Z"
   },
   {
    "duration": 1065,
    "start_time": "2021-09-03T12:37:49.453Z"
   },
   {
    "duration": 770,
    "start_time": "2021-09-03T12:38:06.749Z"
   },
   {
    "duration": 21,
    "start_time": "2021-09-03T12:39:56.074Z"
   },
   {
    "duration": 33,
    "start_time": "2021-09-03T12:39:56.974Z"
   },
   {
    "duration": 12,
    "start_time": "2021-09-03T12:44:56.087Z"
   },
   {
    "duration": 14,
    "start_time": "2021-09-03T12:44:57.954Z"
   },
   {
    "duration": 45,
    "start_time": "2021-09-03T12:45:01.372Z"
   },
   {
    "duration": 13,
    "start_time": "2021-09-03T12:45:06.802Z"
   },
   {
    "duration": 1444529,
    "start_time": "2021-09-03T12:45:09.895Z"
   },
   {
    "duration": 22,
    "start_time": "2021-09-03T13:15:02.036Z"
   },
   {
    "duration": 21,
    "start_time": "2021-09-03T13:16:16.151Z"
   },
   {
    "duration": 2292,
    "start_time": "2021-09-03T13:16:16.651Z"
   },
   {
    "duration": 29,
    "start_time": "2021-09-03T13:30:00.410Z"
   },
   {
    "duration": 307,
    "start_time": "2021-09-03T13:33:48.508Z"
   },
   {
    "duration": 53,
    "start_time": "2021-09-03T13:34:40.873Z"
   }
  ],
  "kernelspec": {
   "display_name": "Python 3",
   "language": "python",
   "name": "python3"
  },
  "language_info": {
   "codemirror_mode": {
    "name": "ipython",
    "version": 3
   },
   "file_extension": ".py",
   "mimetype": "text/x-python",
   "name": "python",
   "nbconvert_exporter": "python",
   "pygments_lexer": "ipython3",
   "version": "3.7.3"
  },
  "toc": {
   "base_numbering": 1,
   "nav_menu": {},
   "number_sections": true,
   "sideBar": true,
   "skip_h1_title": true,
   "title_cell": "Table of Contents",
   "title_sidebar": "Contents",
   "toc_cell": false,
   "toc_position": {},
   "toc_section_display": true,
   "toc_window_display": true
  }
 },
 "nbformat": 4,
 "nbformat_minor": 2
}
